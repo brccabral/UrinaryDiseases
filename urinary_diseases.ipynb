{
 "cells": [
  {
   "cell_type": "markdown",
   "metadata": {},
   "source": [
    "# Urinary system diseases classification\n",
    "#### Presumptive classification of nephritis from inflammation\n",
    "\n",
    "This notebook aims to create a classification model for the dataset described in here https://www.kaggle.com/yamqwe/acute-inflammationse\n"
   ]
  },
  {
   "cell_type": "markdown",
   "metadata": {},
   "source": [
    "```\n",
    "Credit:\n",
    "Jacek Czerniak, Ph.D., Assistant ProfessorSystems Research InstitutePolish Academy of SciencesLaboratory of Intelligent Systems ul. Newelska 6, Room 21801-447 Warszawa, Polande-mail:\n",
    "jacek.czerniak '@' ibspan.waw.pl or jczerniak '@' ukw.edu.pl\n",
    "```"
   ]
  },
  {
   "cell_type": "code",
   "execution_count": 3,
   "metadata": {},
   "outputs": [],
   "source": [
    "import pandas as pd"
   ]
  },
  {
   "cell_type": "code",
   "execution_count": 21,
   "metadata": {},
   "outputs": [
    {
     "data": {
      "text/html": [
       "<div>\n",
       "<style scoped>\n",
       "    .dataframe tbody tr th:only-of-type {\n",
       "        vertical-align: middle;\n",
       "    }\n",
       "\n",
       "    .dataframe tbody tr th {\n",
       "        vertical-align: top;\n",
       "    }\n",
       "\n",
       "    .dataframe thead th {\n",
       "        text-align: right;\n",
       "    }\n",
       "</style>\n",
       "<table border=\"1\" class=\"dataframe\">\n",
       "  <thead>\n",
       "    <tr style=\"text-align: right;\">\n",
       "      <th></th>\n",
       "      <th>Temperature of patient</th>\n",
       "      <th>Occurrence of nausea</th>\n",
       "      <th>Lumbar pain</th>\n",
       "      <th>Urine pushing (continuous need for urination)</th>\n",
       "      <th>Micturition pains</th>\n",
       "      <th>Burning of urethra, itch, swelling of urethra outlet</th>\n",
       "      <th>Inflammation of urinary bladder</th>\n",
       "      <th>Nephritis of renal pelvis origin</th>\n",
       "    </tr>\n",
       "  </thead>\n",
       "  <tbody>\n",
       "    <tr>\n",
       "      <th>0</th>\n",
       "      <td>35,5</td>\n",
       "      <td>no</td>\n",
       "      <td>yes</td>\n",
       "      <td>no</td>\n",
       "      <td>no</td>\n",
       "      <td>no</td>\n",
       "      <td>no</td>\n",
       "      <td>no</td>\n",
       "    </tr>\n",
       "    <tr>\n",
       "      <th>1</th>\n",
       "      <td>35,9</td>\n",
       "      <td>no</td>\n",
       "      <td>no</td>\n",
       "      <td>yes</td>\n",
       "      <td>yes</td>\n",
       "      <td>yes</td>\n",
       "      <td>yes</td>\n",
       "      <td>no</td>\n",
       "    </tr>\n",
       "    <tr>\n",
       "      <th>2</th>\n",
       "      <td>35,9</td>\n",
       "      <td>no</td>\n",
       "      <td>yes</td>\n",
       "      <td>no</td>\n",
       "      <td>no</td>\n",
       "      <td>no</td>\n",
       "      <td>no</td>\n",
       "      <td>no</td>\n",
       "    </tr>\n",
       "    <tr>\n",
       "      <th>3</th>\n",
       "      <td>36,0</td>\n",
       "      <td>no</td>\n",
       "      <td>no</td>\n",
       "      <td>yes</td>\n",
       "      <td>yes</td>\n",
       "      <td>yes</td>\n",
       "      <td>yes</td>\n",
       "      <td>no</td>\n",
       "    </tr>\n",
       "    <tr>\n",
       "      <th>4</th>\n",
       "      <td>36,0</td>\n",
       "      <td>no</td>\n",
       "      <td>yes</td>\n",
       "      <td>no</td>\n",
       "      <td>no</td>\n",
       "      <td>no</td>\n",
       "      <td>no</td>\n",
       "      <td>no</td>\n",
       "    </tr>\n",
       "  </tbody>\n",
       "</table>\n",
       "</div>"
      ],
      "text/plain": [
       "  Temperature of patient Occurrence of nausea Lumbar pain  \\\n",
       "0                   35,5                   no         yes   \n",
       "1                   35,9                   no          no   \n",
       "2                   35,9                   no         yes   \n",
       "3                   36,0                   no          no   \n",
       "4                   36,0                   no         yes   \n",
       "\n",
       "  Urine pushing (continuous need for urination) Micturition pains  \\\n",
       "0                                            no                no   \n",
       "1                                           yes               yes   \n",
       "2                                            no                no   \n",
       "3                                           yes               yes   \n",
       "4                                            no                no   \n",
       "\n",
       "  Burning of urethra, itch, swelling of urethra outlet  \\\n",
       "0                                                 no     \n",
       "1                                                yes     \n",
       "2                                                 no     \n",
       "3                                                yes     \n",
       "4                                                 no     \n",
       "\n",
       "  Inflammation of urinary bladder Nephritis of renal pelvis origin  \n",
       "0                              no                               no  \n",
       "1                             yes                               no  \n",
       "2                              no                               no  \n",
       "3                             yes                               no  \n",
       "4                              no                               no  "
      ]
     },
     "execution_count": 21,
     "metadata": {},
     "output_type": "execute_result"
    }
   ],
   "source": [
    "data_file = 'data/diagnosis.data'\n",
    "columns = ['Temperature of patient', 'Occurrence of nausea', 'Lumbar pain', 'Urine pushing (continuous need for urination)', 'Micturition pains', 'Burning of urethra, itch, swelling of urethra outlet', 'Inflammation of urinary bladder', 'Nephritis of renal pelvis origin']\n",
    "data_df = pd.read_csv(filepath_or_buffer=data_file, sep='\\t', header=None, names=columns, encoding='utf-16')\n",
    "data_df.head()"
   ]
  },
  {
   "cell_type": "markdown",
   "metadata": {},
   "source": [
    "## Feature engineering"
   ]
  },
  {
   "cell_type": "markdown",
   "metadata": {},
   "source": [
    "### Drop missing values"
   ]
  },
  {
   "cell_type": "code",
   "execution_count": 12,
   "metadata": {},
   "outputs": [
    {
     "data": {
      "text/plain": [
       "(120, 8)"
      ]
     },
     "execution_count": 12,
     "metadata": {},
     "output_type": "execute_result"
    }
   ],
   "source": [
    "data_df.shape"
   ]
  },
  {
   "cell_type": "code",
   "execution_count": 13,
   "metadata": {},
   "outputs": [
    {
     "data": {
      "text/plain": [
       "(120, 8)"
      ]
     },
     "execution_count": 13,
     "metadata": {},
     "output_type": "execute_result"
    }
   ],
   "source": [
    "data_df = data_df.dropna(axis=0)\n",
    "data_df.shape"
   ]
  },
  {
   "cell_type": "markdown",
   "metadata": {},
   "source": [
    "There are no missing values"
   ]
  },
  {
   "cell_type": "markdown",
   "metadata": {},
   "source": [
    "### Convert text to numbers"
   ]
  },
  {
   "cell_type": "code",
   "execution_count": 22,
   "metadata": {},
   "outputs": [
    {
     "data": {
      "text/html": [
       "<div>\n",
       "<style scoped>\n",
       "    .dataframe tbody tr th:only-of-type {\n",
       "        vertical-align: middle;\n",
       "    }\n",
       "\n",
       "    .dataframe tbody tr th {\n",
       "        vertical-align: top;\n",
       "    }\n",
       "\n",
       "    .dataframe thead th {\n",
       "        text-align: right;\n",
       "    }\n",
       "</style>\n",
       "<table border=\"1\" class=\"dataframe\">\n",
       "  <thead>\n",
       "    <tr style=\"text-align: right;\">\n",
       "      <th></th>\n",
       "      <th>Temperature of patient</th>\n",
       "      <th>Occurrence of nausea</th>\n",
       "      <th>Lumbar pain</th>\n",
       "      <th>Urine pushing (continuous need for urination)</th>\n",
       "      <th>Micturition pains</th>\n",
       "      <th>Burning of urethra, itch, swelling of urethra outlet</th>\n",
       "      <th>Inflammation of urinary bladder</th>\n",
       "      <th>Nephritis of renal pelvis origin</th>\n",
       "    </tr>\n",
       "  </thead>\n",
       "  <tbody>\n",
       "    <tr>\n",
       "      <th>0</th>\n",
       "      <td>35,5</td>\n",
       "      <td>0</td>\n",
       "      <td>1</td>\n",
       "      <td>0</td>\n",
       "      <td>0</td>\n",
       "      <td>0</td>\n",
       "      <td>0</td>\n",
       "      <td>0</td>\n",
       "    </tr>\n",
       "    <tr>\n",
       "      <th>1</th>\n",
       "      <td>35,9</td>\n",
       "      <td>0</td>\n",
       "      <td>0</td>\n",
       "      <td>1</td>\n",
       "      <td>1</td>\n",
       "      <td>1</td>\n",
       "      <td>1</td>\n",
       "      <td>0</td>\n",
       "    </tr>\n",
       "    <tr>\n",
       "      <th>2</th>\n",
       "      <td>35,9</td>\n",
       "      <td>0</td>\n",
       "      <td>1</td>\n",
       "      <td>0</td>\n",
       "      <td>0</td>\n",
       "      <td>0</td>\n",
       "      <td>0</td>\n",
       "      <td>0</td>\n",
       "    </tr>\n",
       "    <tr>\n",
       "      <th>3</th>\n",
       "      <td>36,0</td>\n",
       "      <td>0</td>\n",
       "      <td>0</td>\n",
       "      <td>1</td>\n",
       "      <td>1</td>\n",
       "      <td>1</td>\n",
       "      <td>1</td>\n",
       "      <td>0</td>\n",
       "    </tr>\n",
       "    <tr>\n",
       "      <th>4</th>\n",
       "      <td>36,0</td>\n",
       "      <td>0</td>\n",
       "      <td>1</td>\n",
       "      <td>0</td>\n",
       "      <td>0</td>\n",
       "      <td>0</td>\n",
       "      <td>0</td>\n",
       "      <td>0</td>\n",
       "    </tr>\n",
       "  </tbody>\n",
       "</table>\n",
       "</div>"
      ],
      "text/plain": [
       "  Temperature of patient Occurrence of nausea Lumbar pain  \\\n",
       "0                   35,5                    0           1   \n",
       "1                   35,9                    0           0   \n",
       "2                   35,9                    0           1   \n",
       "3                   36,0                    0           0   \n",
       "4                   36,0                    0           1   \n",
       "\n",
       "  Urine pushing (continuous need for urination) Micturition pains  \\\n",
       "0                                             0                 0   \n",
       "1                                             1                 1   \n",
       "2                                             0                 0   \n",
       "3                                             1                 1   \n",
       "4                                             0                 0   \n",
       "\n",
       "  Burning of urethra, itch, swelling of urethra outlet  \\\n",
       "0                                                  0     \n",
       "1                                                  1     \n",
       "2                                                  0     \n",
       "3                                                  1     \n",
       "4                                                  0     \n",
       "\n",
       "  Inflammation of urinary bladder Nephritis of renal pelvis origin  \n",
       "0                               0                                0  \n",
       "1                               1                                0  \n",
       "2                               0                                0  \n",
       "3                               1                                0  \n",
       "4                               0                                0  "
      ]
     },
     "execution_count": 22,
     "metadata": {},
     "output_type": "execute_result"
    }
   ],
   "source": [
    "for c in columns[1:]:\n",
    "    data_df.loc[data_df[c]=='no',c] = 0\n",
    "    data_df.loc[data_df[c]=='yes',c] = 1\n",
    "data_df.head()\n"
   ]
  },
  {
   "cell_type": "markdown",
   "metadata": {},
   "source": [
    "### Create labels  "
   ]
  },
  {
   "cell_type": "markdown",
   "metadata": {},
   "source": [
    "- Check if one patient can have both diseases"
   ]
  },
  {
   "cell_type": "code",
   "execution_count": 26,
   "metadata": {},
   "outputs": [
    {
     "data": {
      "text/plain": [
       "(19, 8)"
      ]
     },
     "execution_count": 26,
     "metadata": {},
     "output_type": "execute_result"
    }
   ],
   "source": [
    "data_df[(data_df['Inflammation of urinary bladder'] == 1) & (data_df['Nephritis of renal pelvis origin'] == 1)].shape"
   ]
  },
  {
   "cell_type": "markdown",
   "metadata": {},
   "source": [
    "- Check if one patient don't have any disease"
   ]
  },
  {
   "cell_type": "code",
   "execution_count": 27,
   "metadata": {},
   "outputs": [
    {
     "data": {
      "text/plain": [
       "(30, 8)"
      ]
     },
     "execution_count": 27,
     "metadata": {},
     "output_type": "execute_result"
    }
   ],
   "source": [
    "data_df[(data_df['Inflammation of urinary bladder'] == 0) & (data_df['Nephritis of renal pelvis origin'] == 0)].shape"
   ]
  },
  {
   "cell_type": "markdown",
   "metadata": {},
   "source": [
    "Create a Diagnosis column which will serve as our label. It can have values of\n",
    "- 0 : if patient has no disease\n",
    "- 1 : if patient was diagnosed with just \"Nephritis of renal pelvis origin\"\n",
    "- 2 : if patient was diagnosed with just \"Inflammation of urinary bladder\"\n",
    "- 3 : if patient was diagnosed with both diseases"
   ]
  },
  {
   "cell_type": "code",
   "execution_count": 23,
   "metadata": {},
   "outputs": [],
   "source": [
    "import numpy as np"
   ]
  },
  {
   "cell_type": "code",
   "execution_count": 29,
   "metadata": {},
   "outputs": [
    {
     "data": {
      "text/html": [
       "<div>\n",
       "<style scoped>\n",
       "    .dataframe tbody tr th:only-of-type {\n",
       "        vertical-align: middle;\n",
       "    }\n",
       "\n",
       "    .dataframe tbody tr th {\n",
       "        vertical-align: top;\n",
       "    }\n",
       "\n",
       "    .dataframe thead th {\n",
       "        text-align: right;\n",
       "    }\n",
       "</style>\n",
       "<table border=\"1\" class=\"dataframe\">\n",
       "  <thead>\n",
       "    <tr style=\"text-align: right;\">\n",
       "      <th></th>\n",
       "      <th>Temperature of patient</th>\n",
       "      <th>Occurrence of nausea</th>\n",
       "      <th>Lumbar pain</th>\n",
       "      <th>Urine pushing (continuous need for urination)</th>\n",
       "      <th>Micturition pains</th>\n",
       "      <th>Burning of urethra, itch, swelling of urethra outlet</th>\n",
       "      <th>Inflammation of urinary bladder</th>\n",
       "      <th>Nephritis of renal pelvis origin</th>\n",
       "      <th>Diagnosis</th>\n",
       "    </tr>\n",
       "  </thead>\n",
       "  <tbody>\n",
       "    <tr>\n",
       "      <th>0</th>\n",
       "      <td>35,5</td>\n",
       "      <td>0</td>\n",
       "      <td>1</td>\n",
       "      <td>0</td>\n",
       "      <td>0</td>\n",
       "      <td>0</td>\n",
       "      <td>0</td>\n",
       "      <td>0</td>\n",
       "      <td>0</td>\n",
       "    </tr>\n",
       "    <tr>\n",
       "      <th>1</th>\n",
       "      <td>35,9</td>\n",
       "      <td>0</td>\n",
       "      <td>0</td>\n",
       "      <td>1</td>\n",
       "      <td>1</td>\n",
       "      <td>1</td>\n",
       "      <td>1</td>\n",
       "      <td>0</td>\n",
       "      <td>2</td>\n",
       "    </tr>\n",
       "    <tr>\n",
       "      <th>2</th>\n",
       "      <td>35,9</td>\n",
       "      <td>0</td>\n",
       "      <td>1</td>\n",
       "      <td>0</td>\n",
       "      <td>0</td>\n",
       "      <td>0</td>\n",
       "      <td>0</td>\n",
       "      <td>0</td>\n",
       "      <td>0</td>\n",
       "    </tr>\n",
       "    <tr>\n",
       "      <th>3</th>\n",
       "      <td>36,0</td>\n",
       "      <td>0</td>\n",
       "      <td>0</td>\n",
       "      <td>1</td>\n",
       "      <td>1</td>\n",
       "      <td>1</td>\n",
       "      <td>1</td>\n",
       "      <td>0</td>\n",
       "      <td>2</td>\n",
       "    </tr>\n",
       "    <tr>\n",
       "      <th>4</th>\n",
       "      <td>36,0</td>\n",
       "      <td>0</td>\n",
       "      <td>1</td>\n",
       "      <td>0</td>\n",
       "      <td>0</td>\n",
       "      <td>0</td>\n",
       "      <td>0</td>\n",
       "      <td>0</td>\n",
       "      <td>0</td>\n",
       "    </tr>\n",
       "  </tbody>\n",
       "</table>\n",
       "</div>"
      ],
      "text/plain": [
       "  Temperature of patient Occurrence of nausea Lumbar pain  \\\n",
       "0                   35,5                    0           1   \n",
       "1                   35,9                    0           0   \n",
       "2                   35,9                    0           1   \n",
       "3                   36,0                    0           0   \n",
       "4                   36,0                    0           1   \n",
       "\n",
       "  Urine pushing (continuous need for urination) Micturition pains  \\\n",
       "0                                             0                 0   \n",
       "1                                             1                 1   \n",
       "2                                             0                 0   \n",
       "3                                             1                 1   \n",
       "4                                             0                 0   \n",
       "\n",
       "  Burning of urethra, itch, swelling of urethra outlet  \\\n",
       "0                                                  0     \n",
       "1                                                  1     \n",
       "2                                                  0     \n",
       "3                                                  1     \n",
       "4                                                  0     \n",
       "\n",
       "  Inflammation of urinary bladder Nephritis of renal pelvis origin  Diagnosis  \n",
       "0                               0                                0          0  \n",
       "1                               1                                0          2  \n",
       "2                               0                                0          0  \n",
       "3                               1                                0          2  \n",
       "4                               0                                0          0  "
      ]
     },
     "execution_count": 29,
     "metadata": {},
     "output_type": "execute_result"
    }
   ],
   "source": [
    "conditions = [\n",
    "    ((data_df['Inflammation of urinary bladder'] ==\n",
    "     0) & (data_df['Nephritis of renal pelvis origin'] == 0)),\n",
    "    ((data_df['Inflammation of urinary bladder'] ==\n",
    "     0) & (data_df['Nephritis of renal pelvis origin'] == 1)),\n",
    "    ((data_df['Inflammation of urinary bladder'] ==\n",
    "     1) & (data_df['Nephritis of renal pelvis origin'] == 0)),\n",
    "    ((data_df['Inflammation of urinary bladder'] ==\n",
    "     1) & (data_df['Nephritis of renal pelvis origin'] == 1))\n",
    "]\n",
    "values = [0, 1, 2, 3]\n",
    "data_df['Diagnosis'] = np.select(conditions, values)\n",
    "data_df.head()\n"
   ]
  },
  {
   "cell_type": "markdown",
   "metadata": {},
   "source": [
    "### Drop previous diagnosis columns"
   ]
  },
  {
   "cell_type": "code",
   "execution_count": 32,
   "metadata": {},
   "outputs": [
    {
     "data": {
      "text/html": [
       "<div>\n",
       "<style scoped>\n",
       "    .dataframe tbody tr th:only-of-type {\n",
       "        vertical-align: middle;\n",
       "    }\n",
       "\n",
       "    .dataframe tbody tr th {\n",
       "        vertical-align: top;\n",
       "    }\n",
       "\n",
       "    .dataframe thead th {\n",
       "        text-align: right;\n",
       "    }\n",
       "</style>\n",
       "<table border=\"1\" class=\"dataframe\">\n",
       "  <thead>\n",
       "    <tr style=\"text-align: right;\">\n",
       "      <th></th>\n",
       "      <th>Temperature of patient</th>\n",
       "      <th>Occurrence of nausea</th>\n",
       "      <th>Lumbar pain</th>\n",
       "      <th>Urine pushing (continuous need for urination)</th>\n",
       "      <th>Micturition pains</th>\n",
       "      <th>Burning of urethra, itch, swelling of urethra outlet</th>\n",
       "      <th>Diagnosis</th>\n",
       "    </tr>\n",
       "  </thead>\n",
       "  <tbody>\n",
       "    <tr>\n",
       "      <th>0</th>\n",
       "      <td>35,5</td>\n",
       "      <td>0</td>\n",
       "      <td>1</td>\n",
       "      <td>0</td>\n",
       "      <td>0</td>\n",
       "      <td>0</td>\n",
       "      <td>0</td>\n",
       "    </tr>\n",
       "    <tr>\n",
       "      <th>1</th>\n",
       "      <td>35,9</td>\n",
       "      <td>0</td>\n",
       "      <td>0</td>\n",
       "      <td>1</td>\n",
       "      <td>1</td>\n",
       "      <td>1</td>\n",
       "      <td>2</td>\n",
       "    </tr>\n",
       "    <tr>\n",
       "      <th>2</th>\n",
       "      <td>35,9</td>\n",
       "      <td>0</td>\n",
       "      <td>1</td>\n",
       "      <td>0</td>\n",
       "      <td>0</td>\n",
       "      <td>0</td>\n",
       "      <td>0</td>\n",
       "    </tr>\n",
       "    <tr>\n",
       "      <th>3</th>\n",
       "      <td>36,0</td>\n",
       "      <td>0</td>\n",
       "      <td>0</td>\n",
       "      <td>1</td>\n",
       "      <td>1</td>\n",
       "      <td>1</td>\n",
       "      <td>2</td>\n",
       "    </tr>\n",
       "    <tr>\n",
       "      <th>4</th>\n",
       "      <td>36,0</td>\n",
       "      <td>0</td>\n",
       "      <td>1</td>\n",
       "      <td>0</td>\n",
       "      <td>0</td>\n",
       "      <td>0</td>\n",
       "      <td>0</td>\n",
       "    </tr>\n",
       "  </tbody>\n",
       "</table>\n",
       "</div>"
      ],
      "text/plain": [
       "  Temperature of patient Occurrence of nausea Lumbar pain  \\\n",
       "0                   35,5                    0           1   \n",
       "1                   35,9                    0           0   \n",
       "2                   35,9                    0           1   \n",
       "3                   36,0                    0           0   \n",
       "4                   36,0                    0           1   \n",
       "\n",
       "  Urine pushing (continuous need for urination) Micturition pains  \\\n",
       "0                                             0                 0   \n",
       "1                                             1                 1   \n",
       "2                                             0                 0   \n",
       "3                                             1                 1   \n",
       "4                                             0                 0   \n",
       "\n",
       "  Burning of urethra, itch, swelling of urethra outlet  Diagnosis  \n",
       "0                                                  0            0  \n",
       "1                                                  1            2  \n",
       "2                                                  0            0  \n",
       "3                                                  1            2  \n",
       "4                                                  0            0  "
      ]
     },
     "execution_count": 32,
     "metadata": {},
     "output_type": "execute_result"
    }
   ],
   "source": [
    "data_df = data_df.drop(['Inflammation of urinary bladder', 'Nephritis of renal pelvis origin'], axis=1)\n",
    "data_df.head()"
   ]
  }
 ],
 "metadata": {
  "interpreter": {
   "hash": "a37150411c9bc5b27dea8975660d1e172948b9112c06de3bf75ebfa935ea33c5"
  },
  "kernelspec": {
   "display_name": "Python 3.8.10 ('.venv')",
   "language": "python",
   "name": "python3"
  },
  "language_info": {
   "codemirror_mode": {
    "name": "ipython",
    "version": 3
   },
   "file_extension": ".py",
   "mimetype": "text/x-python",
   "name": "python",
   "nbconvert_exporter": "python",
   "pygments_lexer": "ipython3",
   "version": "3.8.10"
  },
  "orig_nbformat": 4
 },
 "nbformat": 4,
 "nbformat_minor": 2
}
