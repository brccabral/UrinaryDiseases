{
 "cells": [
  {
   "cell_type": "markdown",
   "metadata": {},
   "source": [
    "# Urinary system diseases classification\n",
    "#### Presumptive classification of nephritis from inflammation\n",
    "\n",
    "This notebook aims to create a classification model for the dataset described in here https://www.kaggle.com/yamqwe/acute-inflammationse\n"
   ]
  },
  {
   "cell_type": "markdown",
   "metadata": {},
   "source": [
    "```\n",
    "Credit:\n",
    "Jacek Czerniak, Ph.D., Assistant ProfessorSystems Research InstitutePolish Academy of SciencesLaboratory of Intelligent Systems ul. Newelska 6, Room 21801-447 Warszawa, Polande-mail:\n",
    "jacek.czerniak '@' ibspan.waw.pl or jczerniak '@' ukw.edu.pl\n",
    "```"
   ]
  },
  {
   "cell_type": "code",
   "execution_count": 45,
   "metadata": {},
   "outputs": [],
   "source": [
    "import pandas as pd"
   ]
  },
  {
   "cell_type": "code",
   "execution_count": 46,
   "metadata": {},
   "outputs": [
    {
     "data": {
      "text/html": [
       "<div>\n",
       "<style scoped>\n",
       "    .dataframe tbody tr th:only-of-type {\n",
       "        vertical-align: middle;\n",
       "    }\n",
       "\n",
       "    .dataframe tbody tr th {\n",
       "        vertical-align: top;\n",
       "    }\n",
       "\n",
       "    .dataframe thead th {\n",
       "        text-align: right;\n",
       "    }\n",
       "</style>\n",
       "<table border=\"1\" class=\"dataframe\">\n",
       "  <thead>\n",
       "    <tr style=\"text-align: right;\">\n",
       "      <th></th>\n",
       "      <th>Temperature of patient</th>\n",
       "      <th>Occurrence of nausea</th>\n",
       "      <th>Lumbar pain</th>\n",
       "      <th>Urine pushing (continuous need for urination)</th>\n",
       "      <th>Micturition pains</th>\n",
       "      <th>Burning of urethra, itch, swelling of urethra outlet</th>\n",
       "      <th>Inflammation of urinary bladder</th>\n",
       "      <th>Nephritis of renal pelvis origin</th>\n",
       "    </tr>\n",
       "  </thead>\n",
       "  <tbody>\n",
       "    <tr>\n",
       "      <th>0</th>\n",
       "      <td>35,5</td>\n",
       "      <td>no</td>\n",
       "      <td>yes</td>\n",
       "      <td>no</td>\n",
       "      <td>no</td>\n",
       "      <td>no</td>\n",
       "      <td>no</td>\n",
       "      <td>no</td>\n",
       "    </tr>\n",
       "    <tr>\n",
       "      <th>1</th>\n",
       "      <td>35,9</td>\n",
       "      <td>no</td>\n",
       "      <td>no</td>\n",
       "      <td>yes</td>\n",
       "      <td>yes</td>\n",
       "      <td>yes</td>\n",
       "      <td>yes</td>\n",
       "      <td>no</td>\n",
       "    </tr>\n",
       "    <tr>\n",
       "      <th>2</th>\n",
       "      <td>35,9</td>\n",
       "      <td>no</td>\n",
       "      <td>yes</td>\n",
       "      <td>no</td>\n",
       "      <td>no</td>\n",
       "      <td>no</td>\n",
       "      <td>no</td>\n",
       "      <td>no</td>\n",
       "    </tr>\n",
       "    <tr>\n",
       "      <th>3</th>\n",
       "      <td>36,0</td>\n",
       "      <td>no</td>\n",
       "      <td>no</td>\n",
       "      <td>yes</td>\n",
       "      <td>yes</td>\n",
       "      <td>yes</td>\n",
       "      <td>yes</td>\n",
       "      <td>no</td>\n",
       "    </tr>\n",
       "    <tr>\n",
       "      <th>4</th>\n",
       "      <td>36,0</td>\n",
       "      <td>no</td>\n",
       "      <td>yes</td>\n",
       "      <td>no</td>\n",
       "      <td>no</td>\n",
       "      <td>no</td>\n",
       "      <td>no</td>\n",
       "      <td>no</td>\n",
       "    </tr>\n",
       "  </tbody>\n",
       "</table>\n",
       "</div>"
      ],
      "text/plain": [
       "  Temperature of patient Occurrence of nausea Lumbar pain  \\\n",
       "0                   35,5                   no         yes   \n",
       "1                   35,9                   no          no   \n",
       "2                   35,9                   no         yes   \n",
       "3                   36,0                   no          no   \n",
       "4                   36,0                   no         yes   \n",
       "\n",
       "  Urine pushing (continuous need for urination) Micturition pains  \\\n",
       "0                                            no                no   \n",
       "1                                           yes               yes   \n",
       "2                                            no                no   \n",
       "3                                           yes               yes   \n",
       "4                                            no                no   \n",
       "\n",
       "  Burning of urethra, itch, swelling of urethra outlet  \\\n",
       "0                                                 no     \n",
       "1                                                yes     \n",
       "2                                                 no     \n",
       "3                                                yes     \n",
       "4                                                 no     \n",
       "\n",
       "  Inflammation of urinary bladder Nephritis of renal pelvis origin  \n",
       "0                              no                               no  \n",
       "1                             yes                               no  \n",
       "2                              no                               no  \n",
       "3                             yes                               no  \n",
       "4                              no                               no  "
      ]
     },
     "execution_count": 46,
     "metadata": {},
     "output_type": "execute_result"
    }
   ],
   "source": [
    "data_file = 'data/diagnosis.data'\n",
    "columns = ['Temperature of patient', 'Occurrence of nausea', 'Lumbar pain', 'Urine pushing (continuous need for urination)', 'Micturition pains', 'Burning of urethra, itch, swelling of urethra outlet', 'Inflammation of urinary bladder', 'Nephritis of renal pelvis origin']\n",
    "data_df = pd.read_csv(filepath_or_buffer=data_file, sep='\\t', header=None, names=columns, encoding='utf-16')\n",
    "data_df.head()"
   ]
  },
  {
   "cell_type": "markdown",
   "metadata": {},
   "source": [
    "## Feature engineering"
   ]
  },
  {
   "cell_type": "markdown",
   "metadata": {},
   "source": [
    "### Drop missing values"
   ]
  },
  {
   "cell_type": "code",
   "execution_count": 47,
   "metadata": {},
   "outputs": [
    {
     "data": {
      "text/plain": [
       "(120, 8)"
      ]
     },
     "execution_count": 47,
     "metadata": {},
     "output_type": "execute_result"
    }
   ],
   "source": [
    "data_df.shape"
   ]
  },
  {
   "cell_type": "code",
   "execution_count": 48,
   "metadata": {},
   "outputs": [
    {
     "data": {
      "text/plain": [
       "(120, 8)"
      ]
     },
     "execution_count": 48,
     "metadata": {},
     "output_type": "execute_result"
    }
   ],
   "source": [
    "data_df = data_df.dropna(axis=0)\n",
    "data_df.shape"
   ]
  },
  {
   "cell_type": "markdown",
   "metadata": {},
   "source": [
    "There are no missing values"
   ]
  },
  {
   "cell_type": "markdown",
   "metadata": {},
   "source": [
    "### Convert text to numbers"
   ]
  },
  {
   "cell_type": "code",
   "execution_count": 49,
   "metadata": {},
   "outputs": [
    {
     "data": {
      "text/html": [
       "<div>\n",
       "<style scoped>\n",
       "    .dataframe tbody tr th:only-of-type {\n",
       "        vertical-align: middle;\n",
       "    }\n",
       "\n",
       "    .dataframe tbody tr th {\n",
       "        vertical-align: top;\n",
       "    }\n",
       "\n",
       "    .dataframe thead th {\n",
       "        text-align: right;\n",
       "    }\n",
       "</style>\n",
       "<table border=\"1\" class=\"dataframe\">\n",
       "  <thead>\n",
       "    <tr style=\"text-align: right;\">\n",
       "      <th></th>\n",
       "      <th>Temperature of patient</th>\n",
       "      <th>Occurrence of nausea</th>\n",
       "      <th>Lumbar pain</th>\n",
       "      <th>Urine pushing (continuous need for urination)</th>\n",
       "      <th>Micturition pains</th>\n",
       "      <th>Burning of urethra, itch, swelling of urethra outlet</th>\n",
       "      <th>Inflammation of urinary bladder</th>\n",
       "      <th>Nephritis of renal pelvis origin</th>\n",
       "    </tr>\n",
       "  </thead>\n",
       "  <tbody>\n",
       "    <tr>\n",
       "      <th>0</th>\n",
       "      <td>35,5</td>\n",
       "      <td>0</td>\n",
       "      <td>1</td>\n",
       "      <td>0</td>\n",
       "      <td>0</td>\n",
       "      <td>0</td>\n",
       "      <td>0</td>\n",
       "      <td>0</td>\n",
       "    </tr>\n",
       "    <tr>\n",
       "      <th>1</th>\n",
       "      <td>35,9</td>\n",
       "      <td>0</td>\n",
       "      <td>0</td>\n",
       "      <td>1</td>\n",
       "      <td>1</td>\n",
       "      <td>1</td>\n",
       "      <td>1</td>\n",
       "      <td>0</td>\n",
       "    </tr>\n",
       "    <tr>\n",
       "      <th>2</th>\n",
       "      <td>35,9</td>\n",
       "      <td>0</td>\n",
       "      <td>1</td>\n",
       "      <td>0</td>\n",
       "      <td>0</td>\n",
       "      <td>0</td>\n",
       "      <td>0</td>\n",
       "      <td>0</td>\n",
       "    </tr>\n",
       "    <tr>\n",
       "      <th>3</th>\n",
       "      <td>36,0</td>\n",
       "      <td>0</td>\n",
       "      <td>0</td>\n",
       "      <td>1</td>\n",
       "      <td>1</td>\n",
       "      <td>1</td>\n",
       "      <td>1</td>\n",
       "      <td>0</td>\n",
       "    </tr>\n",
       "    <tr>\n",
       "      <th>4</th>\n",
       "      <td>36,0</td>\n",
       "      <td>0</td>\n",
       "      <td>1</td>\n",
       "      <td>0</td>\n",
       "      <td>0</td>\n",
       "      <td>0</td>\n",
       "      <td>0</td>\n",
       "      <td>0</td>\n",
       "    </tr>\n",
       "  </tbody>\n",
       "</table>\n",
       "</div>"
      ],
      "text/plain": [
       "  Temperature of patient Occurrence of nausea Lumbar pain  \\\n",
       "0                   35,5                    0           1   \n",
       "1                   35,9                    0           0   \n",
       "2                   35,9                    0           1   \n",
       "3                   36,0                    0           0   \n",
       "4                   36,0                    0           1   \n",
       "\n",
       "  Urine pushing (continuous need for urination) Micturition pains  \\\n",
       "0                                             0                 0   \n",
       "1                                             1                 1   \n",
       "2                                             0                 0   \n",
       "3                                             1                 1   \n",
       "4                                             0                 0   \n",
       "\n",
       "  Burning of urethra, itch, swelling of urethra outlet  \\\n",
       "0                                                  0     \n",
       "1                                                  1     \n",
       "2                                                  0     \n",
       "3                                                  1     \n",
       "4                                                  0     \n",
       "\n",
       "  Inflammation of urinary bladder Nephritis of renal pelvis origin  \n",
       "0                               0                                0  \n",
       "1                               1                                0  \n",
       "2                               0                                0  \n",
       "3                               1                                0  \n",
       "4                               0                                0  "
      ]
     },
     "execution_count": 49,
     "metadata": {},
     "output_type": "execute_result"
    }
   ],
   "source": [
    "for c in columns[1:]:\n",
    "    data_df.loc[data_df[c]=='no',c] = 0\n",
    "    data_df.loc[data_df[c]=='yes',c] = 1\n",
    "data_df.head()\n"
   ]
  },
  {
   "cell_type": "markdown",
   "metadata": {},
   "source": [
    "### Create labels  "
   ]
  },
  {
   "cell_type": "markdown",
   "metadata": {},
   "source": [
    "- Check if one patient can have both diseases"
   ]
  },
  {
   "cell_type": "code",
   "execution_count": 50,
   "metadata": {},
   "outputs": [
    {
     "data": {
      "text/plain": [
       "(19, 8)"
      ]
     },
     "execution_count": 50,
     "metadata": {},
     "output_type": "execute_result"
    }
   ],
   "source": [
    "data_df[(data_df['Inflammation of urinary bladder'] == 1) & (data_df['Nephritis of renal pelvis origin'] == 1)].shape"
   ]
  },
  {
   "cell_type": "markdown",
   "metadata": {},
   "source": [
    "- Check if one patient don't have any disease"
   ]
  },
  {
   "cell_type": "code",
   "execution_count": 51,
   "metadata": {},
   "outputs": [
    {
     "data": {
      "text/plain": [
       "(30, 8)"
      ]
     },
     "execution_count": 51,
     "metadata": {},
     "output_type": "execute_result"
    }
   ],
   "source": [
    "data_df[(data_df['Inflammation of urinary bladder'] == 0) & (data_df['Nephritis of renal pelvis origin'] == 0)].shape"
   ]
  },
  {
   "cell_type": "markdown",
   "metadata": {},
   "source": [
    "Create a Diagnosis column which will serve as our label. It can have values of\n",
    "- 0 : if patient has no disease\n",
    "- 1 : if patient was diagnosed with just \"Nephritis of renal pelvis origin\"\n",
    "- 2 : if patient was diagnosed with just \"Inflammation of urinary bladder\"\n",
    "- 3 : if patient was diagnosed with both diseases"
   ]
  },
  {
   "cell_type": "code",
   "execution_count": 52,
   "metadata": {},
   "outputs": [],
   "source": [
    "import numpy as np"
   ]
  },
  {
   "cell_type": "code",
   "execution_count": 53,
   "metadata": {},
   "outputs": [
    {
     "data": {
      "text/html": [
       "<div>\n",
       "<style scoped>\n",
       "    .dataframe tbody tr th:only-of-type {\n",
       "        vertical-align: middle;\n",
       "    }\n",
       "\n",
       "    .dataframe tbody tr th {\n",
       "        vertical-align: top;\n",
       "    }\n",
       "\n",
       "    .dataframe thead th {\n",
       "        text-align: right;\n",
       "    }\n",
       "</style>\n",
       "<table border=\"1\" class=\"dataframe\">\n",
       "  <thead>\n",
       "    <tr style=\"text-align: right;\">\n",
       "      <th></th>\n",
       "      <th>Temperature of patient</th>\n",
       "      <th>Occurrence of nausea</th>\n",
       "      <th>Lumbar pain</th>\n",
       "      <th>Urine pushing (continuous need for urination)</th>\n",
       "      <th>Micturition pains</th>\n",
       "      <th>Burning of urethra, itch, swelling of urethra outlet</th>\n",
       "      <th>Inflammation of urinary bladder</th>\n",
       "      <th>Nephritis of renal pelvis origin</th>\n",
       "      <th>Diagnosis</th>\n",
       "    </tr>\n",
       "  </thead>\n",
       "  <tbody>\n",
       "    <tr>\n",
       "      <th>0</th>\n",
       "      <td>35,5</td>\n",
       "      <td>0</td>\n",
       "      <td>1</td>\n",
       "      <td>0</td>\n",
       "      <td>0</td>\n",
       "      <td>0</td>\n",
       "      <td>0</td>\n",
       "      <td>0</td>\n",
       "      <td>0</td>\n",
       "    </tr>\n",
       "    <tr>\n",
       "      <th>1</th>\n",
       "      <td>35,9</td>\n",
       "      <td>0</td>\n",
       "      <td>0</td>\n",
       "      <td>1</td>\n",
       "      <td>1</td>\n",
       "      <td>1</td>\n",
       "      <td>1</td>\n",
       "      <td>0</td>\n",
       "      <td>2</td>\n",
       "    </tr>\n",
       "    <tr>\n",
       "      <th>2</th>\n",
       "      <td>35,9</td>\n",
       "      <td>0</td>\n",
       "      <td>1</td>\n",
       "      <td>0</td>\n",
       "      <td>0</td>\n",
       "      <td>0</td>\n",
       "      <td>0</td>\n",
       "      <td>0</td>\n",
       "      <td>0</td>\n",
       "    </tr>\n",
       "    <tr>\n",
       "      <th>3</th>\n",
       "      <td>36,0</td>\n",
       "      <td>0</td>\n",
       "      <td>0</td>\n",
       "      <td>1</td>\n",
       "      <td>1</td>\n",
       "      <td>1</td>\n",
       "      <td>1</td>\n",
       "      <td>0</td>\n",
       "      <td>2</td>\n",
       "    </tr>\n",
       "    <tr>\n",
       "      <th>4</th>\n",
       "      <td>36,0</td>\n",
       "      <td>0</td>\n",
       "      <td>1</td>\n",
       "      <td>0</td>\n",
       "      <td>0</td>\n",
       "      <td>0</td>\n",
       "      <td>0</td>\n",
       "      <td>0</td>\n",
       "      <td>0</td>\n",
       "    </tr>\n",
       "  </tbody>\n",
       "</table>\n",
       "</div>"
      ],
      "text/plain": [
       "  Temperature of patient Occurrence of nausea Lumbar pain  \\\n",
       "0                   35,5                    0           1   \n",
       "1                   35,9                    0           0   \n",
       "2                   35,9                    0           1   \n",
       "3                   36,0                    0           0   \n",
       "4                   36,0                    0           1   \n",
       "\n",
       "  Urine pushing (continuous need for urination) Micturition pains  \\\n",
       "0                                             0                 0   \n",
       "1                                             1                 1   \n",
       "2                                             0                 0   \n",
       "3                                             1                 1   \n",
       "4                                             0                 0   \n",
       "\n",
       "  Burning of urethra, itch, swelling of urethra outlet  \\\n",
       "0                                                  0     \n",
       "1                                                  1     \n",
       "2                                                  0     \n",
       "3                                                  1     \n",
       "4                                                  0     \n",
       "\n",
       "  Inflammation of urinary bladder Nephritis of renal pelvis origin  Diagnosis  \n",
       "0                               0                                0          0  \n",
       "1                               1                                0          2  \n",
       "2                               0                                0          0  \n",
       "3                               1                                0          2  \n",
       "4                               0                                0          0  "
      ]
     },
     "execution_count": 53,
     "metadata": {},
     "output_type": "execute_result"
    }
   ],
   "source": [
    "conditions = [\n",
    "    ((data_df['Inflammation of urinary bladder'] ==\n",
    "     0) & (data_df['Nephritis of renal pelvis origin'] == 0)),\n",
    "    ((data_df['Inflammation of urinary bladder'] ==\n",
    "     0) & (data_df['Nephritis of renal pelvis origin'] == 1)),\n",
    "    ((data_df['Inflammation of urinary bladder'] ==\n",
    "     1) & (data_df['Nephritis of renal pelvis origin'] == 0)),\n",
    "    ((data_df['Inflammation of urinary bladder'] ==\n",
    "     1) & (data_df['Nephritis of renal pelvis origin'] == 1))\n",
    "]\n",
    "values = [0, 1, 2, 3]\n",
    "data_df['Diagnosis'] = np.select(conditions, values)\n",
    "data_df.head()\n"
   ]
  },
  {
   "cell_type": "markdown",
   "metadata": {},
   "source": [
    "### Drop previous diagnosis columns"
   ]
  },
  {
   "cell_type": "code",
   "execution_count": 54,
   "metadata": {},
   "outputs": [
    {
     "data": {
      "text/html": [
       "<div>\n",
       "<style scoped>\n",
       "    .dataframe tbody tr th:only-of-type {\n",
       "        vertical-align: middle;\n",
       "    }\n",
       "\n",
       "    .dataframe tbody tr th {\n",
       "        vertical-align: top;\n",
       "    }\n",
       "\n",
       "    .dataframe thead th {\n",
       "        text-align: right;\n",
       "    }\n",
       "</style>\n",
       "<table border=\"1\" class=\"dataframe\">\n",
       "  <thead>\n",
       "    <tr style=\"text-align: right;\">\n",
       "      <th></th>\n",
       "      <th>Temperature of patient</th>\n",
       "      <th>Occurrence of nausea</th>\n",
       "      <th>Lumbar pain</th>\n",
       "      <th>Urine pushing (continuous need for urination)</th>\n",
       "      <th>Micturition pains</th>\n",
       "      <th>Burning of urethra, itch, swelling of urethra outlet</th>\n",
       "      <th>Diagnosis</th>\n",
       "    </tr>\n",
       "  </thead>\n",
       "  <tbody>\n",
       "    <tr>\n",
       "      <th>0</th>\n",
       "      <td>35,5</td>\n",
       "      <td>0</td>\n",
       "      <td>1</td>\n",
       "      <td>0</td>\n",
       "      <td>0</td>\n",
       "      <td>0</td>\n",
       "      <td>0</td>\n",
       "    </tr>\n",
       "    <tr>\n",
       "      <th>1</th>\n",
       "      <td>35,9</td>\n",
       "      <td>0</td>\n",
       "      <td>0</td>\n",
       "      <td>1</td>\n",
       "      <td>1</td>\n",
       "      <td>1</td>\n",
       "      <td>2</td>\n",
       "    </tr>\n",
       "    <tr>\n",
       "      <th>2</th>\n",
       "      <td>35,9</td>\n",
       "      <td>0</td>\n",
       "      <td>1</td>\n",
       "      <td>0</td>\n",
       "      <td>0</td>\n",
       "      <td>0</td>\n",
       "      <td>0</td>\n",
       "    </tr>\n",
       "    <tr>\n",
       "      <th>3</th>\n",
       "      <td>36,0</td>\n",
       "      <td>0</td>\n",
       "      <td>0</td>\n",
       "      <td>1</td>\n",
       "      <td>1</td>\n",
       "      <td>1</td>\n",
       "      <td>2</td>\n",
       "    </tr>\n",
       "    <tr>\n",
       "      <th>4</th>\n",
       "      <td>36,0</td>\n",
       "      <td>0</td>\n",
       "      <td>1</td>\n",
       "      <td>0</td>\n",
       "      <td>0</td>\n",
       "      <td>0</td>\n",
       "      <td>0</td>\n",
       "    </tr>\n",
       "  </tbody>\n",
       "</table>\n",
       "</div>"
      ],
      "text/plain": [
       "  Temperature of patient Occurrence of nausea Lumbar pain  \\\n",
       "0                   35,5                    0           1   \n",
       "1                   35,9                    0           0   \n",
       "2                   35,9                    0           1   \n",
       "3                   36,0                    0           0   \n",
       "4                   36,0                    0           1   \n",
       "\n",
       "  Urine pushing (continuous need for urination) Micturition pains  \\\n",
       "0                                             0                 0   \n",
       "1                                             1                 1   \n",
       "2                                             0                 0   \n",
       "3                                             1                 1   \n",
       "4                                             0                 0   \n",
       "\n",
       "  Burning of urethra, itch, swelling of urethra outlet  Diagnosis  \n",
       "0                                                  0            0  \n",
       "1                                                  1            2  \n",
       "2                                                  0            0  \n",
       "3                                                  1            2  \n",
       "4                                                  0            0  "
      ]
     },
     "execution_count": 54,
     "metadata": {},
     "output_type": "execute_result"
    }
   ],
   "source": [
    "data_df = data_df.drop(['Inflammation of urinary bladder', 'Nephritis of renal pelvis origin'], axis=1)\n",
    "data_df.head()"
   ]
  },
  {
   "cell_type": "markdown",
   "metadata": {},
   "source": [
    "### Scale temperature"
   ]
  },
  {
   "cell_type": "markdown",
   "metadata": {},
   "source": [
    "Convert temperature decimal character"
   ]
  },
  {
   "cell_type": "code",
   "execution_count": 55,
   "metadata": {},
   "outputs": [
    {
     "data": {
      "text/html": [
       "<div>\n",
       "<style scoped>\n",
       "    .dataframe tbody tr th:only-of-type {\n",
       "        vertical-align: middle;\n",
       "    }\n",
       "\n",
       "    .dataframe tbody tr th {\n",
       "        vertical-align: top;\n",
       "    }\n",
       "\n",
       "    .dataframe thead th {\n",
       "        text-align: right;\n",
       "    }\n",
       "</style>\n",
       "<table border=\"1\" class=\"dataframe\">\n",
       "  <thead>\n",
       "    <tr style=\"text-align: right;\">\n",
       "      <th></th>\n",
       "      <th>Temperature of patient</th>\n",
       "      <th>Occurrence of nausea</th>\n",
       "      <th>Lumbar pain</th>\n",
       "      <th>Urine pushing (continuous need for urination)</th>\n",
       "      <th>Micturition pains</th>\n",
       "      <th>Burning of urethra, itch, swelling of urethra outlet</th>\n",
       "      <th>Diagnosis</th>\n",
       "    </tr>\n",
       "  </thead>\n",
       "  <tbody>\n",
       "    <tr>\n",
       "      <th>0</th>\n",
       "      <td>35.5</td>\n",
       "      <td>0</td>\n",
       "      <td>1</td>\n",
       "      <td>0</td>\n",
       "      <td>0</td>\n",
       "      <td>0</td>\n",
       "      <td>0</td>\n",
       "    </tr>\n",
       "    <tr>\n",
       "      <th>1</th>\n",
       "      <td>35.9</td>\n",
       "      <td>0</td>\n",
       "      <td>0</td>\n",
       "      <td>1</td>\n",
       "      <td>1</td>\n",
       "      <td>1</td>\n",
       "      <td>2</td>\n",
       "    </tr>\n",
       "    <tr>\n",
       "      <th>2</th>\n",
       "      <td>35.9</td>\n",
       "      <td>0</td>\n",
       "      <td>1</td>\n",
       "      <td>0</td>\n",
       "      <td>0</td>\n",
       "      <td>0</td>\n",
       "      <td>0</td>\n",
       "    </tr>\n",
       "    <tr>\n",
       "      <th>3</th>\n",
       "      <td>36.0</td>\n",
       "      <td>0</td>\n",
       "      <td>0</td>\n",
       "      <td>1</td>\n",
       "      <td>1</td>\n",
       "      <td>1</td>\n",
       "      <td>2</td>\n",
       "    </tr>\n",
       "    <tr>\n",
       "      <th>4</th>\n",
       "      <td>36.0</td>\n",
       "      <td>0</td>\n",
       "      <td>1</td>\n",
       "      <td>0</td>\n",
       "      <td>0</td>\n",
       "      <td>0</td>\n",
       "      <td>0</td>\n",
       "    </tr>\n",
       "  </tbody>\n",
       "</table>\n",
       "</div>"
      ],
      "text/plain": [
       "  Temperature of patient Occurrence of nausea Lumbar pain  \\\n",
       "0                   35.5                    0           1   \n",
       "1                   35.9                    0           0   \n",
       "2                   35.9                    0           1   \n",
       "3                   36.0                    0           0   \n",
       "4                   36.0                    0           1   \n",
       "\n",
       "  Urine pushing (continuous need for urination) Micturition pains  \\\n",
       "0                                             0                 0   \n",
       "1                                             1                 1   \n",
       "2                                             0                 0   \n",
       "3                                             1                 1   \n",
       "4                                             0                 0   \n",
       "\n",
       "  Burning of urethra, itch, swelling of urethra outlet  Diagnosis  \n",
       "0                                                  0            0  \n",
       "1                                                  1            2  \n",
       "2                                                  0            0  \n",
       "3                                                  1            2  \n",
       "4                                                  0            0  "
      ]
     },
     "execution_count": 55,
     "metadata": {},
     "output_type": "execute_result"
    }
   ],
   "source": [
    "data_df['Temperature of patient'] = data_df['Temperature of patient'].str.replace(',','.')\n",
    "data_df.head()"
   ]
  },
  {
   "cell_type": "code",
   "execution_count": 56,
   "metadata": {},
   "outputs": [
    {
     "data": {
      "text/plain": [
       "Temperature of patient                                   float64\n",
       "Occurrence of nausea                                     float64\n",
       "Lumbar pain                                              float64\n",
       "Urine pushing (continuous need for urination)            float64\n",
       "Micturition pains                                        float64\n",
       "Burning of urethra, itch, swelling of urethra outlet     float64\n",
       "Diagnosis                                               category\n",
       "dtype: object"
      ]
     },
     "execution_count": 56,
     "metadata": {},
     "output_type": "execute_result"
    }
   ],
   "source": [
    "data_df = data_df.astype({'Temperature of patient':'float',\n",
    "        'Occurrence of nausea':'float',\n",
    "        'Lumbar pain':'float',\n",
    "        'Urine pushing (continuous need for urination)':'float',\n",
    "        'Micturition pains':'float',\n",
    "        'Burning of urethra, itch, swelling of urethra outlet':'float',\n",
    "        'Diagnosis':'category',\n",
    "})\n",
    "data_df.dtypes"
   ]
  },
  {
   "cell_type": "code",
   "execution_count": 57,
   "metadata": {},
   "outputs": [
    {
     "data": {
      "text/html": [
       "<div>\n",
       "<style scoped>\n",
       "    .dataframe tbody tr th:only-of-type {\n",
       "        vertical-align: middle;\n",
       "    }\n",
       "\n",
       "    .dataframe tbody tr th {\n",
       "        vertical-align: top;\n",
       "    }\n",
       "\n",
       "    .dataframe thead th {\n",
       "        text-align: right;\n",
       "    }\n",
       "</style>\n",
       "<table border=\"1\" class=\"dataframe\">\n",
       "  <thead>\n",
       "    <tr style=\"text-align: right;\">\n",
       "      <th></th>\n",
       "      <th>Temperature of patient</th>\n",
       "      <th>Occurrence of nausea</th>\n",
       "      <th>Lumbar pain</th>\n",
       "      <th>Urine pushing (continuous need for urination)</th>\n",
       "      <th>Micturition pains</th>\n",
       "      <th>Burning of urethra, itch, swelling of urethra outlet</th>\n",
       "      <th>Diagnosis</th>\n",
       "    </tr>\n",
       "  </thead>\n",
       "  <tbody>\n",
       "    <tr>\n",
       "      <th>count</th>\n",
       "      <td>120.000000</td>\n",
       "      <td>120.000000</td>\n",
       "      <td>120.000000</td>\n",
       "      <td>120.000000</td>\n",
       "      <td>120.000000</td>\n",
       "      <td>120.000000</td>\n",
       "      <td>120.0</td>\n",
       "    </tr>\n",
       "    <tr>\n",
       "      <th>unique</th>\n",
       "      <td>NaN</td>\n",
       "      <td>NaN</td>\n",
       "      <td>NaN</td>\n",
       "      <td>NaN</td>\n",
       "      <td>NaN</td>\n",
       "      <td>NaN</td>\n",
       "      <td>4.0</td>\n",
       "    </tr>\n",
       "    <tr>\n",
       "      <th>top</th>\n",
       "      <td>NaN</td>\n",
       "      <td>NaN</td>\n",
       "      <td>NaN</td>\n",
       "      <td>NaN</td>\n",
       "      <td>NaN</td>\n",
       "      <td>NaN</td>\n",
       "      <td>2.0</td>\n",
       "    </tr>\n",
       "    <tr>\n",
       "      <th>freq</th>\n",
       "      <td>NaN</td>\n",
       "      <td>NaN</td>\n",
       "      <td>NaN</td>\n",
       "      <td>NaN</td>\n",
       "      <td>NaN</td>\n",
       "      <td>NaN</td>\n",
       "      <td>40.0</td>\n",
       "    </tr>\n",
       "    <tr>\n",
       "      <th>mean</th>\n",
       "      <td>38.724167</td>\n",
       "      <td>0.241667</td>\n",
       "      <td>0.583333</td>\n",
       "      <td>0.666667</td>\n",
       "      <td>0.491667</td>\n",
       "      <td>0.416667</td>\n",
       "      <td>NaN</td>\n",
       "    </tr>\n",
       "    <tr>\n",
       "      <th>std</th>\n",
       "      <td>1.819132</td>\n",
       "      <td>0.429888</td>\n",
       "      <td>0.495074</td>\n",
       "      <td>0.473381</td>\n",
       "      <td>0.502027</td>\n",
       "      <td>0.495074</td>\n",
       "      <td>NaN</td>\n",
       "    </tr>\n",
       "    <tr>\n",
       "      <th>min</th>\n",
       "      <td>35.500000</td>\n",
       "      <td>0.000000</td>\n",
       "      <td>0.000000</td>\n",
       "      <td>0.000000</td>\n",
       "      <td>0.000000</td>\n",
       "      <td>0.000000</td>\n",
       "      <td>NaN</td>\n",
       "    </tr>\n",
       "    <tr>\n",
       "      <th>25%</th>\n",
       "      <td>37.100000</td>\n",
       "      <td>0.000000</td>\n",
       "      <td>0.000000</td>\n",
       "      <td>0.000000</td>\n",
       "      <td>0.000000</td>\n",
       "      <td>0.000000</td>\n",
       "      <td>NaN</td>\n",
       "    </tr>\n",
       "    <tr>\n",
       "      <th>50%</th>\n",
       "      <td>37.950000</td>\n",
       "      <td>0.000000</td>\n",
       "      <td>1.000000</td>\n",
       "      <td>1.000000</td>\n",
       "      <td>0.000000</td>\n",
       "      <td>0.000000</td>\n",
       "      <td>NaN</td>\n",
       "    </tr>\n",
       "    <tr>\n",
       "      <th>75%</th>\n",
       "      <td>40.600000</td>\n",
       "      <td>0.000000</td>\n",
       "      <td>1.000000</td>\n",
       "      <td>1.000000</td>\n",
       "      <td>1.000000</td>\n",
       "      <td>1.000000</td>\n",
       "      <td>NaN</td>\n",
       "    </tr>\n",
       "    <tr>\n",
       "      <th>max</th>\n",
       "      <td>41.500000</td>\n",
       "      <td>1.000000</td>\n",
       "      <td>1.000000</td>\n",
       "      <td>1.000000</td>\n",
       "      <td>1.000000</td>\n",
       "      <td>1.000000</td>\n",
       "      <td>NaN</td>\n",
       "    </tr>\n",
       "  </tbody>\n",
       "</table>\n",
       "</div>"
      ],
      "text/plain": [
       "        Temperature of patient  Occurrence of nausea  Lumbar pain  \\\n",
       "count               120.000000            120.000000   120.000000   \n",
       "unique                     NaN                   NaN          NaN   \n",
       "top                        NaN                   NaN          NaN   \n",
       "freq                       NaN                   NaN          NaN   \n",
       "mean                 38.724167              0.241667     0.583333   \n",
       "std                   1.819132              0.429888     0.495074   \n",
       "min                  35.500000              0.000000     0.000000   \n",
       "25%                  37.100000              0.000000     0.000000   \n",
       "50%                  37.950000              0.000000     1.000000   \n",
       "75%                  40.600000              0.000000     1.000000   \n",
       "max                  41.500000              1.000000     1.000000   \n",
       "\n",
       "        Urine pushing (continuous need for urination)  Micturition pains  \\\n",
       "count                                      120.000000         120.000000   \n",
       "unique                                            NaN                NaN   \n",
       "top                                               NaN                NaN   \n",
       "freq                                              NaN                NaN   \n",
       "mean                                         0.666667           0.491667   \n",
       "std                                          0.473381           0.502027   \n",
       "min                                          0.000000           0.000000   \n",
       "25%                                          0.000000           0.000000   \n",
       "50%                                          1.000000           0.000000   \n",
       "75%                                          1.000000           1.000000   \n",
       "max                                          1.000000           1.000000   \n",
       "\n",
       "        Burning of urethra, itch, swelling of urethra outlet  Diagnosis  \n",
       "count                                          120.000000         120.0  \n",
       "unique                                                NaN           4.0  \n",
       "top                                                   NaN           2.0  \n",
       "freq                                                  NaN          40.0  \n",
       "mean                                             0.416667           NaN  \n",
       "std                                              0.495074           NaN  \n",
       "min                                              0.000000           NaN  \n",
       "25%                                              0.000000           NaN  \n",
       "50%                                              0.000000           NaN  \n",
       "75%                                              1.000000           NaN  \n",
       "max                                              1.000000           NaN  "
      ]
     },
     "execution_count": 57,
     "metadata": {},
     "output_type": "execute_result"
    }
   ],
   "source": [
    "data_df: pd.DataFrame\n",
    "data_df.describe(include='all')"
   ]
  },
  {
   "cell_type": "code",
   "execution_count": 58,
   "metadata": {},
   "outputs": [
    {
     "data": {
      "text/html": [
       "<div>\n",
       "<style scoped>\n",
       "    .dataframe tbody tr th:only-of-type {\n",
       "        vertical-align: middle;\n",
       "    }\n",
       "\n",
       "    .dataframe tbody tr th {\n",
       "        vertical-align: top;\n",
       "    }\n",
       "\n",
       "    .dataframe thead th {\n",
       "        text-align: right;\n",
       "    }\n",
       "</style>\n",
       "<table border=\"1\" class=\"dataframe\">\n",
       "  <thead>\n",
       "    <tr style=\"text-align: right;\">\n",
       "      <th></th>\n",
       "      <th>Temperature of patient</th>\n",
       "      <th>Occurrence of nausea</th>\n",
       "      <th>Lumbar pain</th>\n",
       "      <th>Urine pushing (continuous need for urination)</th>\n",
       "      <th>Micturition pains</th>\n",
       "      <th>Burning of urethra, itch, swelling of urethra outlet</th>\n",
       "      <th>Diagnosis</th>\n",
       "    </tr>\n",
       "  </thead>\n",
       "  <tbody>\n",
       "    <tr>\n",
       "      <th>0</th>\n",
       "      <td>0.000000</td>\n",
       "      <td>0.0</td>\n",
       "      <td>1.0</td>\n",
       "      <td>0.0</td>\n",
       "      <td>0.0</td>\n",
       "      <td>0.0</td>\n",
       "      <td>0</td>\n",
       "    </tr>\n",
       "    <tr>\n",
       "      <th>1</th>\n",
       "      <td>0.066667</td>\n",
       "      <td>0.0</td>\n",
       "      <td>0.0</td>\n",
       "      <td>1.0</td>\n",
       "      <td>1.0</td>\n",
       "      <td>1.0</td>\n",
       "      <td>2</td>\n",
       "    </tr>\n",
       "    <tr>\n",
       "      <th>2</th>\n",
       "      <td>0.066667</td>\n",
       "      <td>0.0</td>\n",
       "      <td>1.0</td>\n",
       "      <td>0.0</td>\n",
       "      <td>0.0</td>\n",
       "      <td>0.0</td>\n",
       "      <td>0</td>\n",
       "    </tr>\n",
       "    <tr>\n",
       "      <th>3</th>\n",
       "      <td>0.083333</td>\n",
       "      <td>0.0</td>\n",
       "      <td>0.0</td>\n",
       "      <td>1.0</td>\n",
       "      <td>1.0</td>\n",
       "      <td>1.0</td>\n",
       "      <td>2</td>\n",
       "    </tr>\n",
       "    <tr>\n",
       "      <th>4</th>\n",
       "      <td>0.083333</td>\n",
       "      <td>0.0</td>\n",
       "      <td>1.0</td>\n",
       "      <td>0.0</td>\n",
       "      <td>0.0</td>\n",
       "      <td>0.0</td>\n",
       "      <td>0</td>\n",
       "    </tr>\n",
       "  </tbody>\n",
       "</table>\n",
       "</div>"
      ],
      "text/plain": [
       "   Temperature of patient  Occurrence of nausea  Lumbar pain  \\\n",
       "0                0.000000                   0.0          1.0   \n",
       "1                0.066667                   0.0          0.0   \n",
       "2                0.066667                   0.0          1.0   \n",
       "3                0.083333                   0.0          0.0   \n",
       "4                0.083333                   0.0          1.0   \n",
       "\n",
       "   Urine pushing (continuous need for urination)  Micturition pains  \\\n",
       "0                                            0.0                0.0   \n",
       "1                                            1.0                1.0   \n",
       "2                                            0.0                0.0   \n",
       "3                                            1.0                1.0   \n",
       "4                                            0.0                0.0   \n",
       "\n",
       "   Burning of urethra, itch, swelling of urethra outlet Diagnosis  \n",
       "0                                                0.0            0  \n",
       "1                                                1.0            2  \n",
       "2                                                0.0            0  \n",
       "3                                                1.0            2  \n",
       "4                                                0.0            0  "
      ]
     },
     "execution_count": 58,
     "metadata": {},
     "output_type": "execute_result"
    }
   ],
   "source": [
    "from sklearn.preprocessing import MinMaxScaler\n",
    "\n",
    "scaler=MinMaxScaler()\n",
    "data_df[['Temperature of patient']]=pd.DataFrame(scaler.fit_transform(data_df[['Temperature of patient']].astype(float)))\n",
    "data_df.head()\n"
   ]
  },
  {
   "cell_type": "code",
   "execution_count": 59,
   "metadata": {},
   "outputs": [],
   "source": [
    "from pickle import dump\n",
    "import os\n",
    "os.makedirs('model',exist_ok=True)\n",
    "dump(scaler, open('model/scaler.pkl', 'wb'))"
   ]
  },
  {
   "cell_type": "markdown",
   "metadata": {},
   "source": [
    "### Data exploration"
   ]
  },
  {
   "cell_type": "code",
   "execution_count": 60,
   "metadata": {},
   "outputs": [],
   "source": [
    "import seaborn as sns\n",
    "import matplotlib.pyplot as plt"
   ]
  },
  {
   "cell_type": "code",
   "execution_count": 61,
   "metadata": {},
   "outputs": [
    {
     "name": "stderr",
     "output_type": "stream",
     "text": [
      "/tmp/ipykernel_186680/371431539.py:4: UserWarning: Matplotlib is currently using module://matplotlib_inline.backend_inline, which is a non-GUI backend, so cannot show the figure.\n",
      "  fig.show()\n"
     ]
    },
    {
     "data": {
      "image/png": "[encoded data removed]",
      "text/plain": [
       "<Figure size 1080x2016 with 7 Axes>"
      ]
     },
     "metadata": {
      "needs_background": "light"
     },
     "output_type": "display_data"
    }
   ],
   "source": [
    "fig, ax =plt.subplots(len(data_df.columns),1, figsize=(15,4*len(data_df.columns)))\n",
    "for i, c in enumerate(data_df.columns):\n",
    "    sns.countplot(data=data_df, x=c, ax=ax[i])\n",
    "fig.show()"
   ]
  },
  {
   "cell_type": "code",
   "execution_count": 62,
   "metadata": {},
   "outputs": [],
   "source": [
    "def one_hot_diagnosis(df, d):\n",
    "    conditions = [\n",
    "        ((df['Diagnosis']==d)),\n",
    "        ((df['Diagnosis']!=d)),\n",
    "    ]\n",
    "    values = [1, 0]\n",
    "    df['D'+str(d)] = np.select(conditions, values)\n",
    "    return df"
   ]
  },
  {
   "cell_type": "code",
   "execution_count": 63,
   "metadata": {},
   "outputs": [],
   "source": [
    "data_df=one_hot_diagnosis(data_df, 0)"
   ]
  },
  {
   "cell_type": "code",
   "execution_count": 64,
   "metadata": {},
   "outputs": [],
   "source": [
    "data_df=one_hot_diagnosis(data_df, 1)"
   ]
  },
  {
   "cell_type": "code",
   "execution_count": 65,
   "metadata": {},
   "outputs": [],
   "source": [
    "data_df=one_hot_diagnosis(data_df, 2)"
   ]
  },
  {
   "cell_type": "code",
   "execution_count": 66,
   "metadata": {},
   "outputs": [],
   "source": [
    "data_df=one_hot_diagnosis(data_df, 3)"
   ]
  },
  {
   "cell_type": "code",
   "execution_count": 67,
   "metadata": {},
   "outputs": [
    {
     "data": {
      "text/plain": [
       "Temperature of patient                                   float64\n",
       "Occurrence of nausea                                     float64\n",
       "Lumbar pain                                              float64\n",
       "Urine pushing (continuous need for urination)            float64\n",
       "Micturition pains                                        float64\n",
       "Burning of urethra, itch, swelling of urethra outlet     float64\n",
       "Diagnosis                                               category\n",
       "D0                                                         int64\n",
       "D1                                                         int64\n",
       "D2                                                         int64\n",
       "D3                                                         int64\n",
       "dtype: object"
      ]
     },
     "execution_count": 67,
     "metadata": {},
     "output_type": "execute_result"
    }
   ],
   "source": [
    "data_df.dtypes"
   ]
  },
  {
   "cell_type": "code",
   "execution_count": 68,
   "metadata": {},
   "outputs": [
    {
     "data": {
      "text/plain": [
       "<AxesSubplot:>"
      ]
     },
     "execution_count": 68,
     "metadata": {},
     "output_type": "execute_result"
    },
    {
     "data": {
      "image/png": "[encoded data removed]",
      "text/plain": [
       "<Figure size 432x288 with 2 Axes>"
      ]
     },
     "metadata": {
      "needs_background": "light"
     },
     "output_type": "display_data"
    }
   ],
   "source": [
    "corr_matrix = data_df.corr().abs().round(2)\n",
    "sns.heatmap(corr_matrix, annot=True, cmap='bwr', linewidths=.5)"
   ]
  },
  {
   "cell_type": "code",
   "execution_count": 69,
   "metadata": {},
   "outputs": [],
   "source": [
    "test_ratio = 0.2\n",
    "test_index = int(data_df.shape[0]*(1-test_ratio))\n",
    "train_df = data_df[:test_index]\n",
    "test_df = data_df[test_index:]\n",
    "train_X, train_Y = train_df[train_df.columns[:-5]], train_df[train_df.columns[-4:]]\n",
    "test_X, test_Y = test_df[test_df.columns[:-5]], test_df[test_df.columns[-4:]]"
   ]
  },
  {
   "cell_type": "code",
   "execution_count": 70,
   "metadata": {},
   "outputs": [],
   "source": [
    "import torch"
   ]
  },
  {
   "cell_type": "code",
   "execution_count": 71,
   "metadata": {},
   "outputs": [
    {
     "data": {
      "text/plain": [
       "device(type='cuda')"
      ]
     },
     "execution_count": 71,
     "metadata": {},
     "output_type": "execute_result"
    }
   ],
   "source": [
    "device = torch.device(\"cuda\" if torch.cuda.is_available() else \"cpu\")\n",
    "device\n",
    "# device = torch.device(\"cpu\")\n",
    "# device"
   ]
  },
  {
   "cell_type": "code",
   "execution_count": 72,
   "metadata": {},
   "outputs": [
    {
     "data": {
      "text/plain": [
       "Linear1H(\n",
       "  (fc1): Linear(in_features=6, out_features=24, bias=True)\n",
       "  (fc2): Linear(in_features=24, out_features=12, bias=True)\n",
       "  (fc3): Linear(in_features=12, out_features=4, bias=True)\n",
       "  (dropout): Dropout(p=0.3, inplace=False)\n",
       ")"
      ]
     },
     "execution_count": 72,
     "metadata": {},
     "output_type": "execute_result"
    }
   ],
   "source": [
    "from model.model import LinearModelDisease\n",
    "INPUT_DIM = train_X.shape[1]\n",
    "HIDDEN_DIM = train_X.shape[1]*4\n",
    "OUTPUT_DIM = train_Y.shape[1]\n",
    "model = LinearModelDisease(INPUT_DIM, HIDDEN_DIM, OUTPUT_DIM)\n",
    "model.to(device)"
   ]
  },
  {
   "cell_type": "code",
   "execution_count": 73,
   "metadata": {},
   "outputs": [],
   "source": [
    "import torch.optim as optim\n",
    "import torch.nn as nn\n",
    "LINEAR_RATE = 0.001\n",
    "optimizer = optim.Adam(model.parameters(), lr=LINEAR_RATE)\n",
    "criterion = nn.CrossEntropyLoss()"
   ]
  },
  {
   "cell_type": "code",
   "execution_count": 74,
   "metadata": {},
   "outputs": [
    {
     "name": "stdout",
     "output_type": "stream",
     "text": [
      "Epoch: 100  Train Loss: 1.01  Test Loss: 0.77  Accuracy: 1.00\r"
     ]
    }
   ],
   "source": [
    "EPOCHS = 100\n",
    "for epoch in range(1, EPOCHS + 1):\n",
    "    model.train()\n",
    "    total_loss = 0\n",
    "    for x, y in zip(train_X.values, train_Y.values):\n",
    "        x = torch.tensor(x).float().to(device)\n",
    "        y = torch.tensor(y).float().to(device)\n",
    "        optimizer.zero_grad()\n",
    "        log_ps = model.forward(x)\n",
    "        ps = torch.exp(log_ps)\n",
    "        loss = criterion(ps[0].view(-1, OUTPUT_DIM), y.view(-1, OUTPUT_DIM))\n",
    "        loss.backward()\n",
    "        optimizer.step()\n",
    "        total_loss += loss.item()\n",
    "    else:\n",
    "        model.eval()\n",
    "        with torch.no_grad():\n",
    "            accuracy = 0\n",
    "            test_loss = 0\n",
    "            for x, y in zip(test_X.values, test_Y.values):\n",
    "                x = torch.tensor(x).float().to(device)\n",
    "                y = torch.tensor(y).float().to(device)\n",
    "                log_ps = model.forward(x)\n",
    "                ps = torch.exp(log_ps)\n",
    "                test_loss += criterion(ps[0].view(-1, OUTPUT_DIM), y.view(-1, OUTPUT_DIM)).item()\n",
    "                top_p, top_class = ps.topk(1, dim=1)\n",
    "                accuracy += int(y.argmax().item()==ps.argmax().item())\n",
    "\n",
    "        print(f'Epoch: {epoch}',\n",
    "        f' Train Loss: {total_loss/len(train_Y.values):.2f}',\n",
    "        f' Test Loss: {test_loss/len(test_Y.values):.2f}',\n",
    "        f' Accuracy: {accuracy/len(test_Y.values):.2f}'\n",
    "        , end='\\r')"
   ]
  },
  {
   "cell_type": "code",
   "execution_count": 78,
   "metadata": {},
   "outputs": [
    {
     "name": "stdout",
     "output_type": "stream",
     "text": [
      "y=1 ps=1\n",
      "y=1 ps=1\n",
      "y=3 ps=3\n",
      "y=3 ps=3\n",
      "y=1 ps=1\n",
      "y=3 ps=3\n",
      "y=0 ps=0\n",
      "y=1 ps=1\n",
      "y=1 ps=1\n",
      "y=3 ps=3\n",
      "y=3 ps=3\n",
      "y=0 ps=0\n",
      "y=1 ps=1\n",
      "y=1 ps=1\n",
      "y=3 ps=3\n",
      "y=0 ps=0\n",
      "y=1 ps=1\n",
      "y=1 ps=1\n",
      "y=3 ps=3\n",
      "y=1 ps=1\n",
      "y=0 ps=0\n",
      "y=1 ps=1\n",
      "y=1 ps=1\n",
      "y=1 ps=1\n"
     ]
    }
   ],
   "source": [
    "for x, y in zip(test_X.values, test_Y.values):\n",
    "    x = torch.tensor(x).float().to(device)\n",
    "    y = torch.tensor(y).float().to(device)\n",
    "    log_ps = model.forward(x)\n",
    "    ps = torch.exp(log_ps)\n",
    "    print(f'y={y.argmax().item()} ps={ps.argmax().item()}')\n"
   ]
  }
 ],
 "metadata": {
  "interpreter": {
   "hash": "a37150411c9bc5b27dea8975660d1e172948b9112c06de3bf75ebfa935ea33c5"
  },
  "kernelspec": {
   "display_name": "Python 3.8.10 ('.venv')",
   "language": "python",
   "name": "python3"
  },
  "language_info": {
   "codemirror_mode": {
    "name": "ipython",
    "version": 3
   },
   "file_extension": ".py",
   "mimetype": "text/x-python",
   "name": "python",
   "nbconvert_exporter": "python",
   "pygments_lexer": "ipython3",
   "version": "3.8.10"
  },
  "orig_nbformat": 4
 },
 "nbformat": 4,
 "nbformat_minor": 2
}
