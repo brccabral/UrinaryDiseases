{
 "cells": [
  {
   "cell_type": "code",
   "execution_count": 83,
   "id": "e0231ea8",
   "metadata": {},
   "outputs": [
    {
     "name": "stdout",
     "output_type": "stream",
     "text": [
      "Collecting torch==1.0.0\n",
      "  Downloading torch-1.0.0-cp36-cp36m-manylinux1_x86_64.whl (591.8 MB)\n",
      "     |████████████████████████████████| 591.8 MB 1.4 kB/s                                        | 2.7 MB 18.6 MB/s eta 0:00:325.6 MB 72.4 MB/s eta 0:00:08��████████▍                  | 246.9 MB 65.6 MB/s eta 0:00:06|████████████████████            | 370.0 MB 243 kB/s eta 0:15:13 �████████▊          | 402.2 MB 243 kB/s eta 0:13:00 �████████▌   | 526.0 MB 9.4 MB/s eta 0:00:07 ████████▋   | 529.4 MB 9.4 MB/s eta 0:00:07 \n",
      "\u001b[?25hInstalling collected packages: torch\n",
      "Successfully installed torch-1.0.0\n"
     ]
    }
   ],
   "source": [
    "!pip install torch==1.0.0"
   ]
  },
  {
   "cell_type": "code",
   "execution_count": 84,
   "id": "7e241d34",
   "metadata": {},
   "outputs": [],
   "source": [
    "import pandas as pd\n",
    "import os\n",
    "import torch"
   ]
  },
  {
   "cell_type": "code",
   "execution_count": 85,
   "id": "7eeec0ce",
   "metadata": {},
   "outputs": [],
   "source": [
    "training_dir = \"urine-data\""
   ]
  },
  {
   "cell_type": "code",
   "execution_count": 86,
   "id": "a9c747e2",
   "metadata": {},
   "outputs": [
    {
     "data": {
      "text/html": [
       "<div>\n",
       "<style scoped>\n",
       "    .dataframe tbody tr th:only-of-type {\n",
       "        vertical-align: middle;\n",
       "    }\n",
       "\n",
       "    .dataframe tbody tr th {\n",
       "        vertical-align: top;\n",
       "    }\n",
       "\n",
       "    .dataframe thead th {\n",
       "        text-align: right;\n",
       "    }\n",
       "</style>\n",
       "<table border=\"1\" class=\"dataframe\">\n",
       "  <thead>\n",
       "    <tr style=\"text-align: right;\">\n",
       "      <th></th>\n",
       "      <th>0</th>\n",
       "      <th>1</th>\n",
       "      <th>2</th>\n",
       "      <th>3</th>\n",
       "      <th>4</th>\n",
       "      <th>5</th>\n",
       "      <th>6</th>\n",
       "      <th>7</th>\n",
       "      <th>8</th>\n",
       "      <th>9</th>\n",
       "    </tr>\n",
       "  </thead>\n",
       "  <tbody>\n",
       "    <tr>\n",
       "      <th>0</th>\n",
       "      <td>1</td>\n",
       "      <td>0</td>\n",
       "      <td>0</td>\n",
       "      <td>0</td>\n",
       "      <td>0.000000</td>\n",
       "      <td>0.0</td>\n",
       "      <td>1.0</td>\n",
       "      <td>0.0</td>\n",
       "      <td>0.0</td>\n",
       "      <td>0.0</td>\n",
       "    </tr>\n",
       "    <tr>\n",
       "      <th>1</th>\n",
       "      <td>0</td>\n",
       "      <td>0</td>\n",
       "      <td>1</td>\n",
       "      <td>0</td>\n",
       "      <td>0.066667</td>\n",
       "      <td>0.0</td>\n",
       "      <td>0.0</td>\n",
       "      <td>1.0</td>\n",
       "      <td>1.0</td>\n",
       "      <td>1.0</td>\n",
       "    </tr>\n",
       "    <tr>\n",
       "      <th>2</th>\n",
       "      <td>1</td>\n",
       "      <td>0</td>\n",
       "      <td>0</td>\n",
       "      <td>0</td>\n",
       "      <td>0.066667</td>\n",
       "      <td>0.0</td>\n",
       "      <td>1.0</td>\n",
       "      <td>0.0</td>\n",
       "      <td>0.0</td>\n",
       "      <td>0.0</td>\n",
       "    </tr>\n",
       "    <tr>\n",
       "      <th>3</th>\n",
       "      <td>0</td>\n",
       "      <td>0</td>\n",
       "      <td>1</td>\n",
       "      <td>0</td>\n",
       "      <td>0.083333</td>\n",
       "      <td>0.0</td>\n",
       "      <td>0.0</td>\n",
       "      <td>1.0</td>\n",
       "      <td>1.0</td>\n",
       "      <td>1.0</td>\n",
       "    </tr>\n",
       "    <tr>\n",
       "      <th>4</th>\n",
       "      <td>1</td>\n",
       "      <td>0</td>\n",
       "      <td>0</td>\n",
       "      <td>0</td>\n",
       "      <td>0.083333</td>\n",
       "      <td>0.0</td>\n",
       "      <td>1.0</td>\n",
       "      <td>0.0</td>\n",
       "      <td>0.0</td>\n",
       "      <td>0.0</td>\n",
       "    </tr>\n",
       "  </tbody>\n",
       "</table>\n",
       "</div>"
      ],
      "text/plain": [
       "   0  1  2  3         4    5    6    7    8    9\n",
       "0  1  0  0  0  0.000000  0.0  1.0  0.0  0.0  0.0\n",
       "1  0  0  1  0  0.066667  0.0  0.0  1.0  1.0  1.0\n",
       "2  1  0  0  0  0.066667  0.0  1.0  0.0  0.0  0.0\n",
       "3  0  0  1  0  0.083333  0.0  0.0  1.0  1.0  1.0\n",
       "4  1  0  0  0  0.083333  0.0  1.0  0.0  0.0  0.0"
      ]
     },
     "execution_count": 86,
     "metadata": {},
     "output_type": "execute_result"
    }
   ],
   "source": [
    "train_data = pd.read_csv(os.path.join(training_dir, \"train.csv\"), header=None, names=None)\n",
    "train_data.head()"
   ]
  },
  {
   "cell_type": "code",
   "execution_count": 87,
   "id": "921794dd",
   "metadata": {},
   "outputs": [
    {
     "data": {
      "text/html": [
       "<div>\n",
       "<style scoped>\n",
       "    .dataframe tbody tr th:only-of-type {\n",
       "        vertical-align: middle;\n",
       "    }\n",
       "\n",
       "    .dataframe tbody tr th {\n",
       "        vertical-align: top;\n",
       "    }\n",
       "\n",
       "    .dataframe thead th {\n",
       "        text-align: right;\n",
       "    }\n",
       "</style>\n",
       "<table border=\"1\" class=\"dataframe\">\n",
       "  <thead>\n",
       "    <tr style=\"text-align: right;\">\n",
       "      <th></th>\n",
       "      <th>0</th>\n",
       "      <th>1</th>\n",
       "      <th>2</th>\n",
       "      <th>3</th>\n",
       "    </tr>\n",
       "  </thead>\n",
       "  <tbody>\n",
       "    <tr>\n",
       "      <th>0</th>\n",
       "      <td>1</td>\n",
       "      <td>0</td>\n",
       "      <td>0</td>\n",
       "      <td>0</td>\n",
       "    </tr>\n",
       "    <tr>\n",
       "      <th>1</th>\n",
       "      <td>0</td>\n",
       "      <td>0</td>\n",
       "      <td>1</td>\n",
       "      <td>0</td>\n",
       "    </tr>\n",
       "    <tr>\n",
       "      <th>2</th>\n",
       "      <td>1</td>\n",
       "      <td>0</td>\n",
       "      <td>0</td>\n",
       "      <td>0</td>\n",
       "    </tr>\n",
       "    <tr>\n",
       "      <th>3</th>\n",
       "      <td>0</td>\n",
       "      <td>0</td>\n",
       "      <td>1</td>\n",
       "      <td>0</td>\n",
       "    </tr>\n",
       "    <tr>\n",
       "      <th>4</th>\n",
       "      <td>1</td>\n",
       "      <td>0</td>\n",
       "      <td>0</td>\n",
       "      <td>0</td>\n",
       "    </tr>\n",
       "    <tr>\n",
       "      <th>...</th>\n",
       "      <td>...</td>\n",
       "      <td>...</td>\n",
       "      <td>...</td>\n",
       "      <td>...</td>\n",
       "    </tr>\n",
       "    <tr>\n",
       "      <th>91</th>\n",
       "      <td>0</td>\n",
       "      <td>1</td>\n",
       "      <td>0</td>\n",
       "      <td>0</td>\n",
       "    </tr>\n",
       "    <tr>\n",
       "      <th>92</th>\n",
       "      <td>0</td>\n",
       "      <td>0</td>\n",
       "      <td>0</td>\n",
       "      <td>1</td>\n",
       "    </tr>\n",
       "    <tr>\n",
       "      <th>93</th>\n",
       "      <td>0</td>\n",
       "      <td>0</td>\n",
       "      <td>0</td>\n",
       "      <td>1</td>\n",
       "    </tr>\n",
       "    <tr>\n",
       "      <th>94</th>\n",
       "      <td>1</td>\n",
       "      <td>0</td>\n",
       "      <td>0</td>\n",
       "      <td>0</td>\n",
       "    </tr>\n",
       "    <tr>\n",
       "      <th>95</th>\n",
       "      <td>0</td>\n",
       "      <td>1</td>\n",
       "      <td>0</td>\n",
       "      <td>0</td>\n",
       "    </tr>\n",
       "  </tbody>\n",
       "</table>\n",
       "<p>96 rows × 4 columns</p>\n",
       "</div>"
      ],
      "text/plain": [
       "    0  1  2  3\n",
       "0   1  0  0  0\n",
       "1   0  0  1  0\n",
       "2   1  0  0  0\n",
       "3   0  0  1  0\n",
       "4   1  0  0  0\n",
       ".. .. .. .. ..\n",
       "91  0  1  0  0\n",
       "92  0  0  0  1\n",
       "93  0  0  0  1\n",
       "94  1  0  0  0\n",
       "95  0  1  0  0\n",
       "\n",
       "[96 rows x 4 columns]"
      ]
     },
     "execution_count": 87,
     "metadata": {},
     "output_type": "execute_result"
    }
   ],
   "source": [
    "train_data[[0,1,2,3]]"
   ]
  },
  {
   "cell_type": "code",
   "execution_count": 88,
   "id": "cca85c0a",
   "metadata": {},
   "outputs": [],
   "source": [
    "train_y = torch.from_numpy(train_data[[0,1,2,3]].values).float().squeeze()"
   ]
  },
  {
   "cell_type": "code",
   "execution_count": 89,
   "id": "ecf127c9",
   "metadata": {},
   "outputs": [
    {
     "data": {
      "text/plain": [
       "torch.Size([96, 4])"
      ]
     },
     "execution_count": 89,
     "metadata": {},
     "output_type": "execute_result"
    }
   ],
   "source": [
    "train_y.shape"
   ]
  },
  {
   "cell_type": "code",
   "execution_count": 22,
   "id": "79d35221",
   "metadata": {},
   "outputs": [],
   "source": [
    "train_iter = iter(train_y)"
   ]
  },
  {
   "cell_type": "code",
   "execution_count": 24,
   "id": "5b44ef01",
   "metadata": {},
   "outputs": [
    {
     "data": {
      "text/plain": [
       "tensor([1., 0., 0., 0.])"
      ]
     },
     "execution_count": 24,
     "metadata": {},
     "output_type": "execute_result"
    }
   ],
   "source": [
    "next(train_iter)"
   ]
  },
  {
   "cell_type": "code",
   "execution_count": 90,
   "id": "f25be353",
   "metadata": {},
   "outputs": [
    {
     "data": {
      "text/plain": [
       "torch.Size([96, 6])"
      ]
     },
     "execution_count": 90,
     "metadata": {},
     "output_type": "execute_result"
    }
   ],
   "source": [
    "train_x = torch.from_numpy(train_data.drop([0,1,2,3], axis=1).values).float()\n",
    "train_x.shape"
   ]
  },
  {
   "cell_type": "code",
   "execution_count": 91,
   "id": "f4cc30b5",
   "metadata": {},
   "outputs": [],
   "source": [
    "device = 'cpu'"
   ]
  },
  {
   "cell_type": "code",
   "execution_count": 92,
   "id": "364c830e",
   "metadata": {},
   "outputs": [],
   "source": [
    "criterion = torch.nn.CrossEntropyLoss()"
   ]
  },
  {
   "cell_type": "code",
   "execution_count": 93,
   "id": "4ca4fba4",
   "metadata": {},
   "outputs": [],
   "source": [
    "criterion?"
   ]
  },
  {
   "cell_type": "code",
   "execution_count": 108,
   "id": "d737951b",
   "metadata": {},
   "outputs": [
    {
     "name": "stdout",
     "output_type": "stream",
     "text": [
      "tensor(1.8014, grad_fn=<NllLossBackward0>)\n"
     ]
    }
   ],
   "source": [
    "loss_fn = torch.nn.CrossEntropyLoss()\n",
    "input_ = torch.randn(3, 5, requires_grad=True).abs()\n",
    "target = torch.empty(3, dtype=torch.long).random_(5)\n",
    "output = loss_fn(input_, target)\n",
    "print(output)"
   ]
  },
  {
   "cell_type": "code",
   "execution_count": 109,
   "id": "53056c0b",
   "metadata": {},
   "outputs": [
    {
     "data": {
      "text/plain": [
       "tensor([[1.7881, 1.2578, 0.0150, 1.0016, 1.4514],\n",
       "        [0.9810, 0.6598, 1.4559, 1.8478, 1.4762],\n",
       "        [0.7048, 0.4009, 0.9597, 0.4475, 0.3236]], grad_fn=<AbsBackward0>)"
      ]
     },
     "execution_count": 109,
     "metadata": {},
     "output_type": "execute_result"
    }
   ],
   "source": [
    "input_"
   ]
  },
  {
   "cell_type": "code",
   "execution_count": 110,
   "id": "788c58c6",
   "metadata": {},
   "outputs": [
    {
     "data": {
      "text/plain": [
       "tensor([1, 0, 1])"
      ]
     },
     "execution_count": 110,
     "metadata": {},
     "output_type": "execute_result"
    }
   ],
   "source": [
    "target"
   ]
  },
  {
   "cell_type": "code",
   "execution_count": 112,
   "id": "b096ad6f",
   "metadata": {},
   "outputs": [
    {
     "data": {
      "text/plain": [
       "(tensor([[0.7048, 0.4009, 0.9597, 0.4475, 0.3236]], grad_fn=<IndexBackward0>),\n",
       " tensor([1]))"
      ]
     },
     "execution_count": 112,
     "metadata": {},
     "output_type": "execute_result"
    }
   ],
   "source": [
    "input_[[2]], target[[2]]"
   ]
  },
  {
   "cell_type": "code",
   "execution_count": 111,
   "id": "f464ba6f",
   "metadata": {},
   "outputs": [
    {
     "name": "stdout",
     "output_type": "stream",
     "text": [
      "tensor(1.8045, grad_fn=<NllLossBackward0>)\n"
     ]
    }
   ],
   "source": [
    "output = loss_fn(input_[[2]], target[[2]])\n",
    "print(output)"
   ]
  },
  {
   "cell_type": "code",
   "execution_count": 98,
   "id": "6eb9f73f",
   "metadata": {},
   "outputs": [
    {
     "name": "stdout",
     "output_type": "stream",
     "text": [
      "tensor(2.1109, grad_fn=<DivBackward1>)\n"
     ]
    }
   ],
   "source": [
    "input_ = torch.randn(3, 5, requires_grad=True)\n",
    "target = torch.randn(3, 5).softmax(dim=1)\n",
    "output = loss_fn(input_, target)\n",
    "print(output)"
   ]
  },
  {
   "cell_type": "code",
   "execution_count": 99,
   "id": "67b4d44b",
   "metadata": {},
   "outputs": [
    {
     "data": {
      "text/plain": [
       "tensor([[ 0.7945, -0.3307,  0.3768,  0.5279,  0.2267],\n",
       "        [ 0.9268,  0.3663, -0.7638,  1.5819,  1.5407],\n",
       "        [-2.5430,  2.0825, -1.2407, -0.1781, -0.3303]], requires_grad=True)"
      ]
     },
     "execution_count": 99,
     "metadata": {},
     "output_type": "execute_result"
    }
   ],
   "source": [
    "input_"
   ]
  },
  {
   "cell_type": "code",
   "execution_count": 100,
   "id": "0ac24a2d",
   "metadata": {},
   "outputs": [
    {
     "data": {
      "text/plain": [
       "tensor([[0.0769, 0.1836, 0.2771, 0.3815, 0.0809],\n",
       "        [0.1619, 0.1504, 0.2523, 0.3299, 0.1054],\n",
       "        [0.1501, 0.1367, 0.1295, 0.1568, 0.4271]])"
      ]
     },
     "execution_count": 100,
     "metadata": {},
     "output_type": "execute_result"
    }
   ],
   "source": [
    "target"
   ]
  },
  {
   "cell_type": "code",
   "execution_count": null,
   "id": "6528a408",
   "metadata": {},
   "outputs": [],
   "source": [
    "tensor([[0.2337, 0.2799, 0.2527, 0.2337]], grad_fn=<ExpBackward>)\n",
    "tensor([1., 0., 0., 0.])"
   ]
  },
  {
   "cell_type": "code",
   "execution_count": 107,
   "id": "996b8c47",
   "metadata": {},
   "outputs": [
    {
     "data": {
      "text/plain": [
       "tensor([[0.2337, 0.2799, 0.2527, 0.2337]], requires_grad=True)"
      ]
     },
     "execution_count": 107,
     "metadata": {},
     "output_type": "execute_result"
    }
   ],
   "source": [
    "ps = torch.tensor([[0.2337, 0.2799, 0.2527, 0.2337]], requires_grad=True)\n",
    "ps"
   ]
  },
  {
   "cell_type": "code",
   "execution_count": 106,
   "id": "5b631398",
   "metadata": {},
   "outputs": [
    {
     "data": {
      "text/plain": [
       "tensor([[1., 0., 0., 0.]])"
      ]
     },
     "execution_count": 106,
     "metadata": {},
     "output_type": "execute_result"
    }
   ],
   "source": [
    "y = torch.tensor([[1., 0., 0., 0.]])\n",
    "y"
   ]
  },
  {
   "cell_type": "code",
   "execution_count": 80,
   "id": "0a76ed3b",
   "metadata": {},
   "outputs": [
    {
     "data": {
      "text/plain": [
       "0"
      ]
     },
     "execution_count": 80,
     "metadata": {},
     "output_type": "execute_result"
    }
   ],
   "source": [
    "y.argmax().view(-1, 1).item()"
   ]
  },
  {
   "cell_type": "code",
   "execution_count": 78,
   "id": "58160462",
   "metadata": {},
   "outputs": [
    {
     "name": "stdout",
     "output_type": "stream",
     "text": [
      "tensor(1.4028, grad_fn=<DivBackward1>)\n"
     ]
    }
   ],
   "source": [
    "output = loss_fn(ps, y)\n",
    "print(output)"
   ]
  },
  {
   "cell_type": "code",
   "execution_count": 6,
   "id": "117cbb57",
   "metadata": {},
   "outputs": [],
   "source": [
    "import pickle"
   ]
  },
  {
   "cell_type": "code",
   "execution_count": 10,
   "id": "c25f0130",
   "metadata": {},
   "outputs": [],
   "source": [
    "with open('model/model.pkl', 'rb') as f:\n",
    "    model = pickle.load(f)"
   ]
  },
  {
   "cell_type": "code",
   "execution_count": 11,
   "id": "e40b99e6",
   "metadata": {},
   "outputs": [],
   "source": [
    "criterion = torch.nn.CrossEntropyLoss()"
   ]
  },
  {
   "cell_type": "code",
   "execution_count": 18,
   "id": "fda2e2c2",
   "metadata": {
    "scrolled": true
   },
   "outputs": [
    {
     "data": {
      "text/plain": [
       "tensor([[0.0000, 0.0000, 1.0000, 0.0000, 0.0000, 0.0000],\n",
       "        [0.0667, 0.0000, 0.0000, 1.0000, 1.0000, 1.0000],\n",
       "        [0.0667, 0.0000, 1.0000, 0.0000, 0.0000, 0.0000],\n",
       "        [0.0833, 0.0000, 0.0000, 1.0000, 1.0000, 1.0000],\n",
       "        [0.0833, 0.0000, 1.0000, 0.0000, 0.0000, 0.0000],\n",
       "        [0.0833, 0.0000, 1.0000, 0.0000, 0.0000, 0.0000],\n",
       "        [0.1167, 0.0000, 0.0000, 1.0000, 1.0000, 1.0000],\n",
       "        [0.1167, 0.0000, 1.0000, 0.0000, 0.0000, 0.0000],\n",
       "        [0.1333, 0.0000, 0.0000, 1.0000, 1.0000, 1.0000],\n",
       "        [0.1833, 0.0000, 0.0000, 1.0000, 1.0000, 1.0000],\n",
       "        [0.1833, 0.0000, 0.0000, 1.0000, 1.0000, 1.0000],\n",
       "        [0.1833, 0.0000, 1.0000, 0.0000, 0.0000, 0.0000],\n",
       "        [0.1833, 0.0000, 1.0000, 0.0000, 0.0000, 0.0000],\n",
       "        [0.2000, 0.0000, 0.0000, 1.0000, 1.0000, 1.0000],\n",
       "        [0.2000, 0.0000, 1.0000, 0.0000, 0.0000, 0.0000],\n",
       "        [0.2000, 0.0000, 1.0000, 0.0000, 0.0000, 0.0000],\n",
       "        [0.2167, 0.0000, 0.0000, 1.0000, 1.0000, 1.0000],\n",
       "        [0.2167, 0.0000, 0.0000, 1.0000, 1.0000, 1.0000],\n",
       "        [0.2333, 0.0000, 0.0000, 1.0000, 1.0000, 1.0000],\n",
       "        [0.2333, 0.0000, 1.0000, 0.0000, 0.0000, 0.0000],\n",
       "        [0.2500, 0.0000, 0.0000, 1.0000, 1.0000, 0.0000],\n",
       "        [0.2500, 0.0000, 0.0000, 1.0000, 1.0000, 0.0000],\n",
       "        [0.2500, 0.0000, 1.0000, 0.0000, 0.0000, 0.0000],\n",
       "        [0.2500, 0.0000, 0.0000, 1.0000, 1.0000, 1.0000],\n",
       "        [0.2500, 0.0000, 0.0000, 1.0000, 1.0000, 1.0000],\n",
       "        [0.2500, 0.0000, 0.0000, 1.0000, 1.0000, 1.0000],\n",
       "        [0.2500, 0.0000, 0.0000, 1.0000, 1.0000, 1.0000],\n",
       "        [0.2500, 0.0000, 0.0000, 1.0000, 0.0000, 0.0000],\n",
       "        [0.2667, 0.0000, 1.0000, 0.0000, 0.0000, 0.0000],\n",
       "        [0.2667, 0.0000, 0.0000, 1.0000, 1.0000, 1.0000],\n",
       "        [0.2667, 0.0000, 0.0000, 1.0000, 0.0000, 0.0000],\n",
       "        [0.2833, 0.0000, 0.0000, 1.0000, 1.0000, 0.0000],\n",
       "        [0.2833, 0.0000, 1.0000, 0.0000, 0.0000, 0.0000],\n",
       "        [0.2833, 0.0000, 0.0000, 1.0000, 0.0000, 0.0000],\n",
       "        [0.3000, 0.0000, 1.0000, 0.0000, 0.0000, 0.0000],\n",
       "        [0.3000, 0.0000, 0.0000, 1.0000, 1.0000, 1.0000],\n",
       "        [0.3000, 0.0000, 0.0000, 1.0000, 0.0000, 0.0000],\n",
       "        [0.3167, 0.0000, 1.0000, 0.0000, 0.0000, 0.0000],\n",
       "        [0.3167, 0.0000, 0.0000, 1.0000, 0.0000, 0.0000],\n",
       "        [0.3333, 0.0000, 0.0000, 1.0000, 1.0000, 0.0000],\n",
       "        [0.3333, 0.0000, 1.0000, 0.0000, 0.0000, 0.0000],\n",
       "        [0.3333, 0.0000, 1.0000, 0.0000, 0.0000, 0.0000],\n",
       "        [0.3333, 0.0000, 0.0000, 1.0000, 1.0000, 1.0000],\n",
       "        [0.3333, 0.0000, 0.0000, 1.0000, 0.0000, 0.0000],\n",
       "        [0.3333, 0.0000, 0.0000, 1.0000, 0.0000, 0.0000],\n",
       "        [0.3500, 0.0000, 0.0000, 1.0000, 1.0000, 0.0000],\n",
       "        [0.3500, 0.0000, 0.0000, 1.0000, 1.0000, 0.0000],\n",
       "        [0.3500, 0.0000, 0.0000, 1.0000, 1.0000, 1.0000],\n",
       "        [0.3667, 0.0000, 0.0000, 1.0000, 1.0000, 0.0000],\n",
       "        [0.3667, 0.0000, 0.0000, 1.0000, 1.0000, 0.0000],\n",
       "        [0.3667, 0.0000, 1.0000, 0.0000, 0.0000, 0.0000],\n",
       "        [0.3667, 0.0000, 0.0000, 1.0000, 0.0000, 0.0000],\n",
       "        [0.3833, 0.0000, 1.0000, 0.0000, 0.0000, 0.0000],\n",
       "        [0.3833, 0.0000, 0.0000, 1.0000, 1.0000, 1.0000],\n",
       "        [0.3833, 0.0000, 0.0000, 1.0000, 0.0000, 0.0000],\n",
       "        [0.4000, 0.0000, 0.0000, 1.0000, 1.0000, 0.0000],\n",
       "        [0.4000, 0.0000, 0.0000, 1.0000, 1.0000, 0.0000],\n",
       "        [0.4000, 0.0000, 1.0000, 0.0000, 0.0000, 0.0000],\n",
       "        [0.4000, 0.0000, 0.0000, 1.0000, 1.0000, 1.0000],\n",
       "        [0.4000, 0.0000, 0.0000, 1.0000, 0.0000, 0.0000],\n",
       "        [0.4167, 0.0000, 1.0000, 1.0000, 0.0000, 1.0000],\n",
       "        [0.4167, 0.0000, 1.0000, 1.0000, 0.0000, 1.0000],\n",
       "        [0.4333, 0.0000, 1.0000, 1.0000, 0.0000, 1.0000],\n",
       "        [0.4667, 0.0000, 1.0000, 1.0000, 0.0000, 1.0000],\n",
       "        [0.5000, 0.0000, 1.0000, 1.0000, 0.0000, 1.0000],\n",
       "        [0.5333, 0.0000, 1.0000, 1.0000, 0.0000, 1.0000],\n",
       "        [0.5667, 0.0000, 1.0000, 1.0000, 0.0000, 1.0000],\n",
       "        [0.5833, 0.0000, 1.0000, 1.0000, 0.0000, 1.0000],\n",
       "        [0.6500, 0.0000, 1.0000, 1.0000, 0.0000, 1.0000],\n",
       "        [0.7000, 0.0000, 1.0000, 1.0000, 0.0000, 1.0000],\n",
       "        [0.7500, 1.0000, 1.0000, 1.0000, 1.0000, 1.0000],\n",
       "        [0.7500, 1.0000, 1.0000, 1.0000, 1.0000, 1.0000],\n",
       "        [0.7500, 1.0000, 1.0000, 1.0000, 1.0000, 0.0000],\n",
       "        [0.7500, 0.0000, 0.0000, 0.0000, 0.0000, 0.0000],\n",
       "        [0.7500, 0.0000, 0.0000, 0.0000, 0.0000, 0.0000],\n",
       "        [0.7500, 1.0000, 1.0000, 0.0000, 1.0000, 0.0000],\n",
       "        [0.7500, 1.0000, 1.0000, 0.0000, 1.0000, 0.0000],\n",
       "        [0.7500, 0.0000, 1.0000, 1.0000, 0.0000, 1.0000],\n",
       "        [0.7667, 1.0000, 1.0000, 1.0000, 1.0000, 0.0000],\n",
       "        [0.7833, 1.0000, 1.0000, 1.0000, 1.0000, 1.0000],\n",
       "        [0.7833, 0.0000, 0.0000, 0.0000, 0.0000, 0.0000],\n",
       "        [0.7833, 1.0000, 1.0000, 0.0000, 1.0000, 0.0000],\n",
       "        [0.8000, 0.0000, 1.0000, 1.0000, 0.0000, 1.0000],\n",
       "        [0.8167, 1.0000, 1.0000, 1.0000, 1.0000, 1.0000],\n",
       "        [0.8167, 1.0000, 1.0000, 1.0000, 1.0000, 0.0000],\n",
       "        [0.8167, 1.0000, 1.0000, 1.0000, 1.0000, 0.0000],\n",
       "        [0.8167, 0.0000, 0.0000, 0.0000, 0.0000, 0.0000],\n",
       "        [0.8167, 1.0000, 1.0000, 0.0000, 1.0000, 0.0000],\n",
       "        [0.8333, 1.0000, 1.0000, 1.0000, 1.0000, 0.0000],\n",
       "        [0.8500, 1.0000, 1.0000, 1.0000, 1.0000, 1.0000],\n",
       "        [0.8500, 0.0000, 0.0000, 0.0000, 0.0000, 0.0000],\n",
       "        [0.8500, 1.0000, 1.0000, 0.0000, 1.0000, 0.0000],\n",
       "        [0.8667, 1.0000, 1.0000, 1.0000, 1.0000, 1.0000],\n",
       "        [0.8667, 1.0000, 1.0000, 1.0000, 1.0000, 0.0000],\n",
       "        [0.8667, 0.0000, 0.0000, 0.0000, 0.0000, 0.0000],\n",
       "        [0.8667, 1.0000, 1.0000, 0.0000, 1.0000, 0.0000]])"
      ]
     },
     "execution_count": 18,
     "metadata": {},
     "output_type": "execute_result"
    }
   ],
   "source": [
    "train_x"
   ]
  },
  {
   "cell_type": "code",
   "execution_count": 53,
   "id": "dc661b0b",
   "metadata": {
    "collapsed": true
   },
   "outputs": [
    {
     "ename": "RuntimeError",
     "evalue": "0D or 1D target tensor expected, multi-target not supported",
     "output_type": "error",
     "traceback": [
      "\u001b[0;31m---------------------------------------------------------------------------\u001b[0m",
      "\u001b[0;31mRuntimeError\u001b[0m                              Traceback (most recent call last)",
      "\u001b[0;32m<ipython-input-53-9151747dc7d9>\u001b[0m in \u001b[0;36m<module>\u001b[0;34m\u001b[0m\n\u001b[1;32m      5\u001b[0m     \u001b[0mps\u001b[0m \u001b[0;34m=\u001b[0m \u001b[0mtorch\u001b[0m\u001b[0;34m.\u001b[0m\u001b[0mexp\u001b[0m\u001b[0;34m(\u001b[0m\u001b[0mlog_ps\u001b[0m\u001b[0;34m)\u001b[0m\u001b[0;34m\u001b[0m\u001b[0;34m\u001b[0m\u001b[0m\n\u001b[1;32m      6\u001b[0m     \u001b[0;31m#loss = criterion(ps[0].view(-1, 4), y.view(-1, 4))\u001b[0m\u001b[0;34m\u001b[0m\u001b[0;34m\u001b[0m\u001b[0;34m\u001b[0m\u001b[0m\n\u001b[0;32m----> 7\u001b[0;31m     \u001b[0mloss\u001b[0m \u001b[0;34m=\u001b[0m \u001b[0mcriterion\u001b[0m\u001b[0;34m(\u001b[0m\u001b[0mps\u001b[0m\u001b[0;34m[\u001b[0m\u001b[0;36m0\u001b[0m\u001b[0;34m]\u001b[0m\u001b[0;34m.\u001b[0m\u001b[0mview\u001b[0m\u001b[0;34m(\u001b[0m\u001b[0;34m-\u001b[0m\u001b[0;36m1\u001b[0m\u001b[0;34m,\u001b[0m \u001b[0;36m4\u001b[0m\u001b[0;34m)\u001b[0m\u001b[0;34m,\u001b[0m \u001b[0my\u001b[0m\u001b[0;34m.\u001b[0m\u001b[0margmax\u001b[0m\u001b[0;34m(\u001b[0m\u001b[0;34m)\u001b[0m\u001b[0;34m.\u001b[0m\u001b[0mview\u001b[0m\u001b[0;34m(\u001b[0m\u001b[0;34m-\u001b[0m\u001b[0;36m1\u001b[0m\u001b[0;34m,\u001b[0m \u001b[0;36m1\u001b[0m\u001b[0;34m)\u001b[0m\u001b[0;34m)\u001b[0m\u001b[0;34m\u001b[0m\u001b[0;34m\u001b[0m\u001b[0m\n\u001b[0m\u001b[1;32m      8\u001b[0m     \u001b[0mprint\u001b[0m\u001b[0;34m(\u001b[0m\u001b[0mps\u001b[0m\u001b[0;34m[\u001b[0m\u001b[0;36m0\u001b[0m\u001b[0;34m]\u001b[0m\u001b[0;34m.\u001b[0m\u001b[0mview\u001b[0m\u001b[0;34m(\u001b[0m\u001b[0;34m-\u001b[0m\u001b[0;36m1\u001b[0m\u001b[0;34m,\u001b[0m \u001b[0;36m4\u001b[0m\u001b[0;34m)\u001b[0m\u001b[0;34m)\u001b[0m\u001b[0;34m\u001b[0m\u001b[0;34m\u001b[0m\u001b[0m\n\u001b[1;32m      9\u001b[0m     \u001b[0mprint\u001b[0m\u001b[0;34m(\u001b[0m\u001b[0my\u001b[0m\u001b[0;34m.\u001b[0m\u001b[0mview\u001b[0m\u001b[0;34m(\u001b[0m\u001b[0;34m-\u001b[0m\u001b[0;36m1\u001b[0m\u001b[0;34m,\u001b[0m \u001b[0;36m4\u001b[0m\u001b[0;34m)\u001b[0m\u001b[0;34m)\u001b[0m\u001b[0;34m\u001b[0m\u001b[0;34m\u001b[0m\u001b[0m\n",
      "\u001b[0;32m~/anaconda3/envs/mxnet_p36/lib/python3.6/site-packages/torch/nn/modules/module.py\u001b[0m in \u001b[0;36m_call_impl\u001b[0;34m(self, *input, **kwargs)\u001b[0m\n\u001b[1;32m   1100\u001b[0m         if not (self._backward_hooks or self._forward_hooks or self._forward_pre_hooks or _global_backward_hooks\n\u001b[1;32m   1101\u001b[0m                 or _global_forward_hooks or _global_forward_pre_hooks):\n\u001b[0;32m-> 1102\u001b[0;31m             \u001b[0;32mreturn\u001b[0m \u001b[0mforward_call\u001b[0m\u001b[0;34m(\u001b[0m\u001b[0;34m*\u001b[0m\u001b[0minput\u001b[0m\u001b[0;34m,\u001b[0m \u001b[0;34m**\u001b[0m\u001b[0mkwargs\u001b[0m\u001b[0;34m)\u001b[0m\u001b[0;34m\u001b[0m\u001b[0;34m\u001b[0m\u001b[0m\n\u001b[0m\u001b[1;32m   1103\u001b[0m         \u001b[0;31m# Do not call functions when jit is used\u001b[0m\u001b[0;34m\u001b[0m\u001b[0;34m\u001b[0m\u001b[0;34m\u001b[0m\u001b[0m\n\u001b[1;32m   1104\u001b[0m         \u001b[0mfull_backward_hooks\u001b[0m\u001b[0;34m,\u001b[0m \u001b[0mnon_full_backward_hooks\u001b[0m \u001b[0;34m=\u001b[0m \u001b[0;34m[\u001b[0m\u001b[0;34m]\u001b[0m\u001b[0;34m,\u001b[0m \u001b[0;34m[\u001b[0m\u001b[0;34m]\u001b[0m\u001b[0;34m\u001b[0m\u001b[0;34m\u001b[0m\u001b[0m\n",
      "\u001b[0;32m~/anaconda3/envs/mxnet_p36/lib/python3.6/site-packages/torch/nn/modules/loss.py\u001b[0m in \u001b[0;36mforward\u001b[0;34m(self, input, target)\u001b[0m\n\u001b[1;32m   1150\u001b[0m         return F.cross_entropy(input, target, weight=self.weight,\n\u001b[1;32m   1151\u001b[0m                                \u001b[0mignore_index\u001b[0m\u001b[0;34m=\u001b[0m\u001b[0mself\u001b[0m\u001b[0;34m.\u001b[0m\u001b[0mignore_index\u001b[0m\u001b[0;34m,\u001b[0m \u001b[0mreduction\u001b[0m\u001b[0;34m=\u001b[0m\u001b[0mself\u001b[0m\u001b[0;34m.\u001b[0m\u001b[0mreduction\u001b[0m\u001b[0;34m,\u001b[0m\u001b[0;34m\u001b[0m\u001b[0;34m\u001b[0m\u001b[0m\n\u001b[0;32m-> 1152\u001b[0;31m                                label_smoothing=self.label_smoothing)\n\u001b[0m\u001b[1;32m   1153\u001b[0m \u001b[0;34m\u001b[0m\u001b[0m\n\u001b[1;32m   1154\u001b[0m \u001b[0;34m\u001b[0m\u001b[0m\n",
      "\u001b[0;32m~/anaconda3/envs/mxnet_p36/lib/python3.6/site-packages/torch/nn/functional.py\u001b[0m in \u001b[0;36mcross_entropy\u001b[0;34m(input, target, weight, size_average, ignore_index, reduce, reduction, label_smoothing)\u001b[0m\n\u001b[1;32m   2844\u001b[0m     \u001b[0;32mif\u001b[0m \u001b[0msize_average\u001b[0m \u001b[0;32mis\u001b[0m \u001b[0;32mnot\u001b[0m \u001b[0;32mNone\u001b[0m \u001b[0;32mor\u001b[0m \u001b[0mreduce\u001b[0m \u001b[0;32mis\u001b[0m \u001b[0;32mnot\u001b[0m \u001b[0;32mNone\u001b[0m\u001b[0;34m:\u001b[0m\u001b[0;34m\u001b[0m\u001b[0;34m\u001b[0m\u001b[0m\n\u001b[1;32m   2845\u001b[0m         \u001b[0mreduction\u001b[0m \u001b[0;34m=\u001b[0m \u001b[0m_Reduction\u001b[0m\u001b[0;34m.\u001b[0m\u001b[0mlegacy_get_string\u001b[0m\u001b[0;34m(\u001b[0m\u001b[0msize_average\u001b[0m\u001b[0;34m,\u001b[0m \u001b[0mreduce\u001b[0m\u001b[0;34m)\u001b[0m\u001b[0;34m\u001b[0m\u001b[0;34m\u001b[0m\u001b[0m\n\u001b[0;32m-> 2846\u001b[0;31m     \u001b[0;32mreturn\u001b[0m \u001b[0mtorch\u001b[0m\u001b[0;34m.\u001b[0m\u001b[0m_C\u001b[0m\u001b[0;34m.\u001b[0m\u001b[0m_nn\u001b[0m\u001b[0;34m.\u001b[0m\u001b[0mcross_entropy_loss\u001b[0m\u001b[0;34m(\u001b[0m\u001b[0minput\u001b[0m\u001b[0;34m,\u001b[0m \u001b[0mtarget\u001b[0m\u001b[0;34m,\u001b[0m \u001b[0mweight\u001b[0m\u001b[0;34m,\u001b[0m \u001b[0m_Reduction\u001b[0m\u001b[0;34m.\u001b[0m\u001b[0mget_enum\u001b[0m\u001b[0;34m(\u001b[0m\u001b[0mreduction\u001b[0m\u001b[0;34m)\u001b[0m\u001b[0;34m,\u001b[0m \u001b[0mignore_index\u001b[0m\u001b[0;34m,\u001b[0m \u001b[0mlabel_smoothing\u001b[0m\u001b[0;34m)\u001b[0m\u001b[0;34m\u001b[0m\u001b[0;34m\u001b[0m\u001b[0m\n\u001b[0m\u001b[1;32m   2847\u001b[0m \u001b[0;34m\u001b[0m\u001b[0m\n\u001b[1;32m   2848\u001b[0m \u001b[0;34m\u001b[0m\u001b[0m\n",
      "\u001b[0;31mRuntimeError\u001b[0m: 0D or 1D target tensor expected, multi-target not supported"
     ]
    }
   ],
   "source": [
    "for x, y in zip(train_x, train_y):\n",
    "    x = x.to(device)\n",
    "    y = y.to(device)\n",
    "    log_ps = model.forward(x)\n",
    "    ps = torch.exp(log_ps)\n",
    "    #loss = criterion(ps[0].view(-1, 4), y.view(-1, 4))\n",
    "    loss = criterion(ps[0].view(-1, 4), y.argmax().view(-1, 1))\n",
    "    print(ps[0].view(-1, 4))\n",
    "    print(y.view(-1, 4))\n",
    "    print(y.argmax().item())\n",
    "    print(loss)\n",
    "    loss.backward()"
   ]
  },
  {
   "cell_type": "code",
   "execution_count": 33,
   "id": "8646f3be",
   "metadata": {},
   "outputs": [
    {
     "data": {
      "text/plain": [
       "[0.0, 1.0, 0.0, 0.0]"
      ]
     },
     "execution_count": 33,
     "metadata": {},
     "output_type": "execute_result"
    }
   ],
   "source": [
    "[v.item() for v in y]"
   ]
  },
  {
   "cell_type": "code",
   "execution_count": 34,
   "id": "594f3032",
   "metadata": {
    "jupyter": {
     "source_hidden": true
    }
   },
   "outputs": [
    {
     "data": {
      "text/plain": [
       "torch.nn.modules.loss.CrossEntropyLoss"
      ]
     },
     "execution_count": 34,
     "metadata": {},
     "output_type": "execute_result"
    }
   ],
   "source": [
    "type(criterion)"
   ]
  },
  {
   "cell_type": "code",
   "execution_count": 50,
   "id": "15e3b379",
   "metadata": {},
   "outputs": [
    {
     "data": {
      "text/plain": [
       "tensor([[1., 0., 0., 0.]])"
      ]
     },
     "execution_count": 50,
     "metadata": {},
     "output_type": "execute_result"
    }
   ],
   "source": [
    "y.view(-1, 4)"
   ]
  },
  {
   "cell_type": "code",
   "execution_count": 58,
   "id": "ec406513",
   "metadata": {},
   "outputs": [
    {
     "data": {
      "text/plain": [
       "0.0"
      ]
     },
     "execution_count": 58,
     "metadata": {},
     "output_type": "execute_result"
    }
   ],
   "source": [
    "yy = y.argmax().view(-1, 1).float()\n",
    "yy.item()"
   ]
  },
  {
   "cell_type": "code",
   "execution_count": 55,
   "id": "a03d454f",
   "metadata": {},
   "outputs": [
    {
     "data": {
      "text/plain": [
       "tensor([[0]])"
      ]
     },
     "execution_count": 55,
     "metadata": {},
     "output_type": "execute_result"
    }
   ],
   "source": [
    "ps.argmax().view(-1, 1)"
   ]
  },
  {
   "cell_type": "code",
   "execution_count": 113,
   "id": "96516eb5",
   "metadata": {},
   "outputs": [
    {
     "data": {
      "text/plain": [
       "MinMaxScaler()"
      ]
     },
     "execution_count": 113,
     "metadata": {},
     "output_type": "execute_result"
    }
   ],
   "source": [
    "import pickle\n",
    "with open('model/scaler.pkl', 'rb') as f:\n",
    "    scaler = pickle.load(f)\n",
    "scaler"
   ]
  },
  {
   "cell_type": "code",
   "execution_count": 117,
   "id": "9c0ae568",
   "metadata": {},
   "outputs": [],
   "source": [
    "from sklearn.preprocessing import MinMaxScaler\n",
    "\n",
    "scaler2=MinMaxScaler()\n",
    "scaler2.fit([[35.5], [41.5]])"
   ]
  },
  {
   "cell_type": "code",
   "execution_count": 123,
   "id": "d7d4f29e",
   "metadata": {},
   "outputs": [
    {
     "data": {
      "text/plain": [
       "MinMaxScaler()"
      ]
     },
     "execution_count": 123,
     "metadata": {},
     "output_type": "execute_result"
    }
   ],
   "source": [
    "scaler2.fit([[35.5], [41.5]])"
   ]
  },
  {
   "cell_type": "code",
   "execution_count": 124,
   "id": "33ed68ab",
   "metadata": {},
   "outputs": [
    {
     "data": {
      "text/plain": [
       "(array([6.]), array([41.5]), array([35.5]))"
      ]
     },
     "execution_count": 124,
     "metadata": {},
     "output_type": "execute_result"
    }
   ],
   "source": [
    "scaler2.data_range_, scaler2.data_max_, scaler2.data_min_"
   ]
  },
  {
   "cell_type": "code",
   "execution_count": 116,
   "id": "6dc73d2b",
   "metadata": {},
   "outputs": [
    {
     "data": {
      "text/plain": [
       "(array([6.]), array([41.5]), array([35.5]))"
      ]
     },
     "execution_count": 116,
     "metadata": {},
     "output_type": "execute_result"
    }
   ],
   "source": [
    "scaler.data_range_, scaler.data_max_, scaler.data_min_"
   ]
  },
  {
   "cell_type": "code",
   "execution_count": 114,
   "id": "42891377",
   "metadata": {
    "collapsed": true
   },
   "outputs": [
    {
     "data": {
      "text/plain": [
       "['__class__',\n",
       " '__delattr__',\n",
       " '__dict__',\n",
       " '__dir__',\n",
       " '__doc__',\n",
       " '__eq__',\n",
       " '__format__',\n",
       " '__ge__',\n",
       " '__getattribute__',\n",
       " '__getstate__',\n",
       " '__gt__',\n",
       " '__hash__',\n",
       " '__init__',\n",
       " '__init_subclass__',\n",
       " '__le__',\n",
       " '__lt__',\n",
       " '__module__',\n",
       " '__ne__',\n",
       " '__new__',\n",
       " '__reduce__',\n",
       " '__reduce_ex__',\n",
       " '__repr__',\n",
       " '__setattr__',\n",
       " '__setstate__',\n",
       " '__sizeof__',\n",
       " '__str__',\n",
       " '__subclasshook__',\n",
       " '__weakref__',\n",
       " '_check_n_features',\n",
       " '_get_param_names',\n",
       " '_get_tags',\n",
       " '_more_tags',\n",
       " '_repr_html_',\n",
       " '_repr_html_inner',\n",
       " '_repr_mimebundle_',\n",
       " '_reset',\n",
       " '_validate_data',\n",
       " 'clip',\n",
       " 'copy',\n",
       " 'data_max_',\n",
       " 'data_min_',\n",
       " 'data_range_',\n",
       " 'feature_range',\n",
       " 'fit',\n",
       " 'fit_transform',\n",
       " 'get_params',\n",
       " 'inverse_transform',\n",
       " 'min_',\n",
       " 'n_features_in_',\n",
       " 'n_samples_seen_',\n",
       " 'partial_fit',\n",
       " 'scale_',\n",
       " 'set_params',\n",
       " 'transform']"
      ]
     },
     "execution_count": 114,
     "metadata": {},
     "output_type": "execute_result"
    }
   ],
   "source": [
    "dir(scaler)"
   ]
  },
  {
   "cell_type": "code",
   "execution_count": 181,
   "id": "097e107f",
   "metadata": {},
   "outputs": [
    {
     "data": {
      "text/plain": [
       "torch.Size([96, 6])"
      ]
     },
     "execution_count": 181,
     "metadata": {},
     "output_type": "execute_result"
    }
   ],
   "source": [
    "train_x.shape"
   ]
  },
  {
   "cell_type": "code",
   "execution_count": 149,
   "id": "62b1169d",
   "metadata": {
    "scrolled": true
   },
   "outputs": [
    {
     "data": {
      "text/plain": [
       "tensor([[0.0000, 0.0667, 0.0667, 0.0833, 0.0833, 0.0833, 0.1167, 0.1167, 0.1333,\n",
       "         0.1833, 0.1833, 0.1833, 0.1833, 0.2000, 0.2000, 0.2000, 0.2167, 0.2167,\n",
       "         0.2333, 0.2333, 0.2500, 0.2500, 0.2500, 0.2500, 0.2500, 0.2500, 0.2500,\n",
       "         0.2500, 0.2667, 0.2667, 0.2667, 0.2833, 0.2833, 0.2833, 0.3000, 0.3000,\n",
       "         0.3000, 0.3167, 0.3167, 0.3333, 0.3333, 0.3333, 0.3333, 0.3333, 0.3333,\n",
       "         0.3500, 0.3500, 0.3500, 0.3667, 0.3667, 0.3667, 0.3667, 0.3833, 0.3833,\n",
       "         0.3833, 0.4000, 0.4000, 0.4000, 0.4000, 0.4000, 0.4167, 0.4167, 0.4333,\n",
       "         0.4667, 0.5000, 0.5333, 0.5667, 0.5833, 0.6500, 0.7000, 0.7500, 0.7500,\n",
       "         0.7500, 0.7500, 0.7500, 0.7500, 0.7500, 0.7500, 0.7667, 0.7833, 0.7833,\n",
       "         0.7833, 0.8000, 0.8167, 0.8167, 0.8167, 0.8167, 0.8167, 0.8333, 0.8500,\n",
       "         0.8500, 0.8500, 0.8667, 0.8667, 0.8667, 0.8667]])"
      ]
     },
     "execution_count": 149,
     "metadata": {},
     "output_type": "execute_result"
    }
   ],
   "source": [
    "train_x[:,0].reshape(1, -1)"
   ]
  },
  {
   "cell_type": "code",
   "execution_count": 152,
   "id": "4f22699c",
   "metadata": {},
   "outputs": [],
   "source": [
    "X = train_x.clone()"
   ]
  },
  {
   "cell_type": "code",
   "execution_count": 155,
   "id": "a5571556",
   "metadata": {},
   "outputs": [],
   "source": [
    "temperature = scaler.inverse_transform(train_x[:,0].reshape(1, -1))"
   ]
  },
  {
   "cell_type": "code",
   "execution_count": 165,
   "id": "fb496a94",
   "metadata": {},
   "outputs": [
    {
     "data": {
      "text/plain": [
       "numpy.ndarray"
      ]
     },
     "execution_count": 165,
     "metadata": {},
     "output_type": "execute_result"
    }
   ],
   "source": [
    "type(train_x[:,1:].numpy())"
   ]
  },
  {
   "cell_type": "code",
   "execution_count": 166,
   "id": "aeee2366",
   "metadata": {},
   "outputs": [],
   "source": [
    "others = train_x[:,1:].numpy()"
   ]
  },
  {
   "cell_type": "code",
   "execution_count": 168,
   "id": "c0d88ddd",
   "metadata": {},
   "outputs": [
    {
     "data": {
      "text/plain": [
       "(96, 5)"
      ]
     },
     "execution_count": 168,
     "metadata": {},
     "output_type": "execute_result"
    }
   ],
   "source": [
    "others.shape"
   ]
  },
  {
   "cell_type": "code",
   "execution_count": 157,
   "id": "c7fdbfc9",
   "metadata": {
    "scrolled": true
   },
   "outputs": [
    {
     "data": {
      "text/plain": [
       "numpy.ndarray"
      ]
     },
     "execution_count": 157,
     "metadata": {},
     "output_type": "execute_result"
    }
   ],
   "source": [
    "type(temperature)"
   ]
  },
  {
   "cell_type": "code",
   "execution_count": 176,
   "id": "adb423ed",
   "metadata": {},
   "outputs": [
    {
     "data": {
      "text/plain": [
       "(1, 96)"
      ]
     },
     "execution_count": 176,
     "metadata": {},
     "output_type": "execute_result"
    }
   ],
   "source": [
    "temperature.shape"
   ]
  },
  {
   "cell_type": "code",
   "execution_count": 177,
   "id": "5c4eee98",
   "metadata": {},
   "outputs": [
    {
     "data": {
      "text/plain": [
       "(96, 1)"
      ]
     },
     "execution_count": 177,
     "metadata": {},
     "output_type": "execute_result"
    }
   ],
   "source": [
    "temperature = temperature.reshape(-1, 1)\n",
    "temperature.shape"
   ]
  },
  {
   "cell_type": "code",
   "execution_count": 170,
   "id": "17257a63",
   "metadata": {},
   "outputs": [],
   "source": [
    "import numpy as np"
   ]
  },
  {
   "cell_type": "code",
   "execution_count": 179,
   "id": "da224002",
   "metadata": {},
   "outputs": [],
   "source": [
    "x_pred = np.concatenate((temperature, others), axis=1)"
   ]
  },
  {
   "cell_type": "code",
   "execution_count": 180,
   "id": "2fca04a9",
   "metadata": {
    "scrolled": true
   },
   "outputs": [
    {
     "data": {
      "text/plain": [
       "(96, 6)"
      ]
     },
     "execution_count": 180,
     "metadata": {},
     "output_type": "execute_result"
    }
   ],
   "source": [
    "x_pred.shape"
   ]
  },
  {
   "cell_type": "code",
   "execution_count": 186,
   "id": "293fd9fd",
   "metadata": {},
   "outputs": [
    {
     "data": {
      "text/plain": [
       "array([35.5       , 35.90000002, 35.90000002, 36.00000001, 36.00000001,\n",
       "       36.00000001, 36.2       , 36.2       , 36.30000004, 36.60000002,\n",
       "       36.60000002, 36.60000002, 36.60000002, 36.70000002, 36.70000002,\n",
       "       36.70000002, 36.80000001, 36.80000001, 36.90000001, 36.90000001,\n",
       "       37.        , 37.        , 37.        , 37.        , 37.        ,\n",
       "       37.        , 37.        , 37.        , 37.10000008, 37.10000008,\n",
       "       37.10000008, 37.19999999, 37.19999999, 37.19999999, 37.30000007,\n",
       "       37.30000007, 37.30000007, 37.39999998, 37.39999998, 37.50000006,\n",
       "       37.50000006, 37.50000006, 37.50000006, 37.50000006, 37.50000006,\n",
       "       37.59999996, 37.59999996, 37.59999996, 37.70000005, 37.70000005,\n",
       "       37.70000005, 37.70000005, 37.79999995, 37.79999995, 37.79999995,\n",
       "       37.90000004, 37.90000004, 37.90000004, 37.90000004, 37.90000004,\n",
       "       37.99999994, 37.99999994, 38.10000002, 38.30000001, 38.5       ,\n",
       "       38.70000017, 38.89999998, 38.99999988, 39.39999986, 39.69999993,\n",
       "       40.        , 40.        , 40.        , 40.        , 40.        ,\n",
       "       40.        , 40.        , 40.        , 40.0999999 , 40.20000017,\n",
       "       40.20000017, 40.20000017, 40.30000007, 40.39999998, 40.39999998,\n",
       "       40.39999998, 40.39999998, 40.39999998, 40.49999988, 40.60000014,\n",
       "       40.60000014, 40.60000014, 40.70000005, 40.70000005, 40.70000005,\n",
       "       40.70000005])"
      ]
     },
     "execution_count": 186,
     "metadata": {},
     "output_type": "execute_result"
    }
   ],
   "source": [
    "x_pred[:,0]"
   ]
  },
  {
   "cell_type": "code",
   "execution_count": 188,
   "id": "4e43687f",
   "metadata": {
    "collapsed": true
   },
   "outputs": [
    {
     "data": {
      "text/plain": [
       "array([[0.        ],\n",
       "       [0.06666667],\n",
       "       [0.06666667],\n",
       "       [0.08333334],\n",
       "       [0.08333334],\n",
       "       [0.08333334],\n",
       "       [0.11666667],\n",
       "       [0.11666667],\n",
       "       [0.13333334],\n",
       "       [0.18333334],\n",
       "       [0.18333334],\n",
       "       [0.18333334],\n",
       "       [0.18333334],\n",
       "       [0.2       ],\n",
       "       [0.2       ],\n",
       "       [0.2       ],\n",
       "       [0.21666667],\n",
       "       [0.21666667],\n",
       "       [0.23333333],\n",
       "       [0.23333333],\n",
       "       [0.25      ],\n",
       "       [0.25      ],\n",
       "       [0.25      ],\n",
       "       [0.25      ],\n",
       "       [0.25      ],\n",
       "       [0.25      ],\n",
       "       [0.25      ],\n",
       "       [0.25      ],\n",
       "       [0.26666668],\n",
       "       [0.26666668],\n",
       "       [0.26666668],\n",
       "       [0.28333333],\n",
       "       [0.28333333],\n",
       "       [0.28333333],\n",
       "       [0.30000001],\n",
       "       [0.30000001],\n",
       "       [0.30000001],\n",
       "       [0.31666666],\n",
       "       [0.31666666],\n",
       "       [0.33333334],\n",
       "       [0.33333334],\n",
       "       [0.33333334],\n",
       "       [0.33333334],\n",
       "       [0.33333334],\n",
       "       [0.33333334],\n",
       "       [0.34999999],\n",
       "       [0.34999999],\n",
       "       [0.34999999],\n",
       "       [0.36666667],\n",
       "       [0.36666667],\n",
       "       [0.36666667],\n",
       "       [0.36666667],\n",
       "       [0.38333333],\n",
       "       [0.38333333],\n",
       "       [0.38333333],\n",
       "       [0.40000001],\n",
       "       [0.40000001],\n",
       "       [0.40000001],\n",
       "       [0.40000001],\n",
       "       [0.40000001],\n",
       "       [0.41666666],\n",
       "       [0.41666666],\n",
       "       [0.43333334],\n",
       "       [0.46666667],\n",
       "       [0.5       ],\n",
       "       [0.53333336],\n",
       "       [0.56666666],\n",
       "       [0.58333331],\n",
       "       [0.64999998],\n",
       "       [0.69999999],\n",
       "       [0.75      ],\n",
       "       [0.75      ],\n",
       "       [0.75      ],\n",
       "       [0.75      ],\n",
       "       [0.75      ],\n",
       "       [0.75      ],\n",
       "       [0.75      ],\n",
       "       [0.75      ],\n",
       "       [0.76666665],\n",
       "       [0.78333336],\n",
       "       [0.78333336],\n",
       "       [0.78333336],\n",
       "       [0.80000001],\n",
       "       [0.81666666],\n",
       "       [0.81666666],\n",
       "       [0.81666666],\n",
       "       [0.81666666],\n",
       "       [0.81666666],\n",
       "       [0.83333331],\n",
       "       [0.85000002],\n",
       "       [0.85000002],\n",
       "       [0.85000002],\n",
       "       [0.86666667],\n",
       "       [0.86666667],\n",
       "       [0.86666667],\n",
       "       [0.86666667]])"
      ]
     },
     "execution_count": 188,
     "metadata": {},
     "output_type": "execute_result"
    }
   ],
   "source": [
    "temp_pred = scaler.transform(x_pred[:,0].reshape(-1, 1))\n",
    "temp_pred"
   ]
  },
  {
   "cell_type": "code",
   "execution_count": 189,
   "id": "2818a269",
   "metadata": {},
   "outputs": [
    {
     "data": {
      "text/plain": [
       "array([[0.        , 0.        , 1.        , 0.        , 0.        ,\n",
       "        0.        ],\n",
       "       [0.06666667, 0.        , 0.        , 1.        , 1.        ,\n",
       "        1.        ],\n",
       "       [0.06666667, 0.        , 1.        , 0.        , 0.        ,\n",
       "        0.        ],\n",
       "       [0.08333334, 0.        , 0.        , 1.        , 1.        ,\n",
       "        1.        ],\n",
       "       [0.08333334, 0.        , 1.        , 0.        , 0.        ,\n",
       "        0.        ],\n",
       "       [0.08333334, 0.        , 1.        , 0.        , 0.        ,\n",
       "        0.        ],\n",
       "       [0.11666667, 0.        , 0.        , 1.        , 1.        ,\n",
       "        1.        ],\n",
       "       [0.11666667, 0.        , 1.        , 0.        , 0.        ,\n",
       "        0.        ],\n",
       "       [0.13333334, 0.        , 0.        , 1.        , 1.        ,\n",
       "        1.        ],\n",
       "       [0.18333334, 0.        , 0.        , 1.        , 1.        ,\n",
       "        1.        ],\n",
       "       [0.18333334, 0.        , 0.        , 1.        , 1.        ,\n",
       "        1.        ],\n",
       "       [0.18333334, 0.        , 1.        , 0.        , 0.        ,\n",
       "        0.        ],\n",
       "       [0.18333334, 0.        , 1.        , 0.        , 0.        ,\n",
       "        0.        ],\n",
       "       [0.2       , 0.        , 0.        , 1.        , 1.        ,\n",
       "        1.        ],\n",
       "       [0.2       , 0.        , 1.        , 0.        , 0.        ,\n",
       "        0.        ],\n",
       "       [0.2       , 0.        , 1.        , 0.        , 0.        ,\n",
       "        0.        ],\n",
       "       [0.21666667, 0.        , 0.        , 1.        , 1.        ,\n",
       "        1.        ],\n",
       "       [0.21666667, 0.        , 0.        , 1.        , 1.        ,\n",
       "        1.        ],\n",
       "       [0.23333333, 0.        , 0.        , 1.        , 1.        ,\n",
       "        1.        ],\n",
       "       [0.23333333, 0.        , 1.        , 0.        , 0.        ,\n",
       "        0.        ],\n",
       "       [0.25      , 0.        , 0.        , 1.        , 1.        ,\n",
       "        0.        ],\n",
       "       [0.25      , 0.        , 0.        , 1.        , 1.        ,\n",
       "        0.        ],\n",
       "       [0.25      , 0.        , 1.        , 0.        , 0.        ,\n",
       "        0.        ],\n",
       "       [0.25      , 0.        , 0.        , 1.        , 1.        ,\n",
       "        1.        ],\n",
       "       [0.25      , 0.        , 0.        , 1.        , 1.        ,\n",
       "        1.        ],\n",
       "       [0.25      , 0.        , 0.        , 1.        , 1.        ,\n",
       "        1.        ],\n",
       "       [0.25      , 0.        , 0.        , 1.        , 1.        ,\n",
       "        1.        ],\n",
       "       [0.25      , 0.        , 0.        , 1.        , 0.        ,\n",
       "        0.        ],\n",
       "       [0.26666668, 0.        , 1.        , 0.        , 0.        ,\n",
       "        0.        ],\n",
       "       [0.26666668, 0.        , 0.        , 1.        , 1.        ,\n",
       "        1.        ],\n",
       "       [0.26666668, 0.        , 0.        , 1.        , 0.        ,\n",
       "        0.        ],\n",
       "       [0.28333333, 0.        , 0.        , 1.        , 1.        ,\n",
       "        0.        ],\n",
       "       [0.28333333, 0.        , 1.        , 0.        , 0.        ,\n",
       "        0.        ],\n",
       "       [0.28333333, 0.        , 0.        , 1.        , 0.        ,\n",
       "        0.        ],\n",
       "       [0.30000001, 0.        , 1.        , 0.        , 0.        ,\n",
       "        0.        ],\n",
       "       [0.30000001, 0.        , 0.        , 1.        , 1.        ,\n",
       "        1.        ],\n",
       "       [0.30000001, 0.        , 0.        , 1.        , 0.        ,\n",
       "        0.        ],\n",
       "       [0.31666666, 0.        , 1.        , 0.        , 0.        ,\n",
       "        0.        ],\n",
       "       [0.31666666, 0.        , 0.        , 1.        , 0.        ,\n",
       "        0.        ],\n",
       "       [0.33333334, 0.        , 0.        , 1.        , 1.        ,\n",
       "        0.        ],\n",
       "       [0.33333334, 0.        , 1.        , 0.        , 0.        ,\n",
       "        0.        ],\n",
       "       [0.33333334, 0.        , 1.        , 0.        , 0.        ,\n",
       "        0.        ],\n",
       "       [0.33333334, 0.        , 0.        , 1.        , 1.        ,\n",
       "        1.        ],\n",
       "       [0.33333334, 0.        , 0.        , 1.        , 0.        ,\n",
       "        0.        ],\n",
       "       [0.33333334, 0.        , 0.        , 1.        , 0.        ,\n",
       "        0.        ],\n",
       "       [0.34999999, 0.        , 0.        , 1.        , 1.        ,\n",
       "        0.        ],\n",
       "       [0.34999999, 0.        , 0.        , 1.        , 1.        ,\n",
       "        0.        ],\n",
       "       [0.34999999, 0.        , 0.        , 1.        , 1.        ,\n",
       "        1.        ],\n",
       "       [0.36666667, 0.        , 0.        , 1.        , 1.        ,\n",
       "        0.        ],\n",
       "       [0.36666667, 0.        , 0.        , 1.        , 1.        ,\n",
       "        0.        ],\n",
       "       [0.36666667, 0.        , 1.        , 0.        , 0.        ,\n",
       "        0.        ],\n",
       "       [0.36666667, 0.        , 0.        , 1.        , 0.        ,\n",
       "        0.        ],\n",
       "       [0.38333333, 0.        , 1.        , 0.        , 0.        ,\n",
       "        0.        ],\n",
       "       [0.38333333, 0.        , 0.        , 1.        , 1.        ,\n",
       "        1.        ],\n",
       "       [0.38333333, 0.        , 0.        , 1.        , 0.        ,\n",
       "        0.        ],\n",
       "       [0.40000001, 0.        , 0.        , 1.        , 1.        ,\n",
       "        0.        ],\n",
       "       [0.40000001, 0.        , 0.        , 1.        , 1.        ,\n",
       "        0.        ],\n",
       "       [0.40000001, 0.        , 1.        , 0.        , 0.        ,\n",
       "        0.        ],\n",
       "       [0.40000001, 0.        , 0.        , 1.        , 1.        ,\n",
       "        1.        ],\n",
       "       [0.40000001, 0.        , 0.        , 1.        , 0.        ,\n",
       "        0.        ],\n",
       "       [0.41666666, 0.        , 1.        , 1.        , 0.        ,\n",
       "        1.        ],\n",
       "       [0.41666666, 0.        , 1.        , 1.        , 0.        ,\n",
       "        1.        ],\n",
       "       [0.43333334, 0.        , 1.        , 1.        , 0.        ,\n",
       "        1.        ],\n",
       "       [0.46666667, 0.        , 1.        , 1.        , 0.        ,\n",
       "        1.        ],\n",
       "       [0.5       , 0.        , 1.        , 1.        , 0.        ,\n",
       "        1.        ],\n",
       "       [0.53333336, 0.        , 1.        , 1.        , 0.        ,\n",
       "        1.        ],\n",
       "       [0.56666666, 0.        , 1.        , 1.        , 0.        ,\n",
       "        1.        ],\n",
       "       [0.58333331, 0.        , 1.        , 1.        , 0.        ,\n",
       "        1.        ],\n",
       "       [0.64999998, 0.        , 1.        , 1.        , 0.        ,\n",
       "        1.        ],\n",
       "       [0.69999999, 0.        , 1.        , 1.        , 0.        ,\n",
       "        1.        ],\n",
       "       [0.75      , 1.        , 1.        , 1.        , 1.        ,\n",
       "        1.        ],\n",
       "       [0.75      , 1.        , 1.        , 1.        , 1.        ,\n",
       "        1.        ],\n",
       "       [0.75      , 1.        , 1.        , 1.        , 1.        ,\n",
       "        0.        ],\n",
       "       [0.75      , 0.        , 0.        , 0.        , 0.        ,\n",
       "        0.        ],\n",
       "       [0.75      , 0.        , 0.        , 0.        , 0.        ,\n",
       "        0.        ],\n",
       "       [0.75      , 1.        , 1.        , 0.        , 1.        ,\n",
       "        0.        ],\n",
       "       [0.75      , 1.        , 1.        , 0.        , 1.        ,\n",
       "        0.        ],\n",
       "       [0.75      , 0.        , 1.        , 1.        , 0.        ,\n",
       "        1.        ],\n",
       "       [0.76666665, 1.        , 1.        , 1.        , 1.        ,\n",
       "        0.        ],\n",
       "       [0.78333336, 1.        , 1.        , 1.        , 1.        ,\n",
       "        1.        ],\n",
       "       [0.78333336, 0.        , 0.        , 0.        , 0.        ,\n",
       "        0.        ],\n",
       "       [0.78333336, 1.        , 1.        , 0.        , 1.        ,\n",
       "        0.        ],\n",
       "       [0.80000001, 0.        , 1.        , 1.        , 0.        ,\n",
       "        1.        ],\n",
       "       [0.81666666, 1.        , 1.        , 1.        , 1.        ,\n",
       "        1.        ],\n",
       "       [0.81666666, 1.        , 1.        , 1.        , 1.        ,\n",
       "        0.        ],\n",
       "       [0.81666666, 1.        , 1.        , 1.        , 1.        ,\n",
       "        0.        ],\n",
       "       [0.81666666, 0.        , 0.        , 0.        , 0.        ,\n",
       "        0.        ],\n",
       "       [0.81666666, 1.        , 1.        , 0.        , 1.        ,\n",
       "        0.        ],\n",
       "       [0.83333331, 1.        , 1.        , 1.        , 1.        ,\n",
       "        0.        ],\n",
       "       [0.85000002, 1.        , 1.        , 1.        , 1.        ,\n",
       "        1.        ],\n",
       "       [0.85000002, 0.        , 0.        , 0.        , 0.        ,\n",
       "        0.        ],\n",
       "       [0.85000002, 1.        , 1.        , 0.        , 1.        ,\n",
       "        0.        ],\n",
       "       [0.86666667, 1.        , 1.        , 1.        , 1.        ,\n",
       "        1.        ],\n",
       "       [0.86666667, 1.        , 1.        , 1.        , 1.        ,\n",
       "        0.        ],\n",
       "       [0.86666667, 0.        , 0.        , 0.        , 0.        ,\n",
       "        0.        ],\n",
       "       [0.86666667, 1.        , 1.        , 0.        , 1.        ,\n",
       "        0.        ]])"
      ]
     },
     "execution_count": 189,
     "metadata": {},
     "output_type": "execute_result"
    }
   ],
   "source": [
    "x_input = np.concatenate((temp_pred, x_pred[:,1:]), axis=1)\n",
    "x_input"
   ]
  },
  {
   "cell_type": "code",
   "execution_count": 190,
   "id": "8d79ec3c",
   "metadata": {},
   "outputs": [],
   "source": [
    "a = 35.5"
   ]
  },
  {
   "cell_type": "code",
   "execution_count": 191,
   "id": "5e18ff49",
   "metadata": {},
   "outputs": [],
   "source": [
    "min_t = 35.5\n",
    "max_t = 41.5"
   ]
  },
  {
   "cell_type": "code",
   "execution_count": 193,
   "id": "e2167218",
   "metadata": {},
   "outputs": [
    {
     "data": {
      "text/plain": [
       "0.0"
      ]
     },
     "execution_count": 193,
     "metadata": {},
     "output_type": "execute_result"
    }
   ],
   "source": [
    "s = (a-min_t)/(max_t-min_t)\n",
    "s"
   ]
  },
  {
   "cell_type": "code",
   "execution_count": 196,
   "id": "71299a6b",
   "metadata": {},
   "outputs": [
    {
     "data": {
      "text/plain": [
       "array([0.        , 0.06666667, 0.06666667, 0.08333334, 0.08333334,\n",
       "       0.08333334, 0.11666667, 0.11666667, 0.13333334, 0.18333334,\n",
       "       0.18333334, 0.18333334, 0.18333334, 0.2       , 0.2       ,\n",
       "       0.2       , 0.21666667, 0.21666667, 0.23333333, 0.23333333,\n",
       "       0.25      , 0.25      , 0.25      , 0.25      , 0.25      ,\n",
       "       0.25      , 0.25      , 0.25      , 0.26666668, 0.26666668,\n",
       "       0.26666668, 0.28333333, 0.28333333, 0.28333333, 0.30000001,\n",
       "       0.30000001, 0.30000001, 0.31666666, 0.31666666, 0.33333334,\n",
       "       0.33333334, 0.33333334, 0.33333334, 0.33333334, 0.33333334,\n",
       "       0.34999999, 0.34999999, 0.34999999, 0.36666667, 0.36666667,\n",
       "       0.36666667, 0.36666667, 0.38333333, 0.38333333, 0.38333333,\n",
       "       0.40000001, 0.40000001, 0.40000001, 0.40000001, 0.40000001,\n",
       "       0.41666666, 0.41666666, 0.43333334, 0.46666667, 0.5       ,\n",
       "       0.53333336, 0.56666666, 0.58333331, 0.64999998, 0.69999999,\n",
       "       0.75      , 0.75      , 0.75      , 0.75      , 0.75      ,\n",
       "       0.75      , 0.75      , 0.75      , 0.76666665, 0.78333336,\n",
       "       0.78333336, 0.78333336, 0.80000001, 0.81666666, 0.81666666,\n",
       "       0.81666666, 0.81666666, 0.81666666, 0.83333331, 0.85000002,\n",
       "       0.85000002, 0.85000002, 0.86666667, 0.86666667, 0.86666667,\n",
       "       0.86666667])"
      ]
     },
     "execution_count": 196,
     "metadata": {},
     "output_type": "execute_result"
    }
   ],
   "source": [
    "s_pred = (x_pred[:,0]-min_t)/(max_t-min_t)\n",
    "s_pred"
   ]
  },
  {
   "cell_type": "code",
   "execution_count": 197,
   "id": "01c1dabe",
   "metadata": {},
   "outputs": [],
   "source": [
    "s_pred = s_pred.reshape(-1, 1)"
   ]
  },
  {
   "cell_type": "code",
   "execution_count": 198,
   "id": "f51d948a",
   "metadata": {},
   "outputs": [
    {
     "data": {
      "text/plain": [
       "array([[0.        ],\n",
       "       [0.06666667],\n",
       "       [0.06666667],\n",
       "       [0.08333334],\n",
       "       [0.08333334],\n",
       "       [0.08333334],\n",
       "       [0.11666667],\n",
       "       [0.11666667],\n",
       "       [0.13333334],\n",
       "       [0.18333334],\n",
       "       [0.18333334],\n",
       "       [0.18333334],\n",
       "       [0.18333334],\n",
       "       [0.2       ],\n",
       "       [0.2       ],\n",
       "       [0.2       ],\n",
       "       [0.21666667],\n",
       "       [0.21666667],\n",
       "       [0.23333333],\n",
       "       [0.23333333],\n",
       "       [0.25      ],\n",
       "       [0.25      ],\n",
       "       [0.25      ],\n",
       "       [0.25      ],\n",
       "       [0.25      ],\n",
       "       [0.25      ],\n",
       "       [0.25      ],\n",
       "       [0.25      ],\n",
       "       [0.26666668],\n",
       "       [0.26666668],\n",
       "       [0.26666668],\n",
       "       [0.28333333],\n",
       "       [0.28333333],\n",
       "       [0.28333333],\n",
       "       [0.30000001],\n",
       "       [0.30000001],\n",
       "       [0.30000001],\n",
       "       [0.31666666],\n",
       "       [0.31666666],\n",
       "       [0.33333334],\n",
       "       [0.33333334],\n",
       "       [0.33333334],\n",
       "       [0.33333334],\n",
       "       [0.33333334],\n",
       "       [0.33333334],\n",
       "       [0.34999999],\n",
       "       [0.34999999],\n",
       "       [0.34999999],\n",
       "       [0.36666667],\n",
       "       [0.36666667],\n",
       "       [0.36666667],\n",
       "       [0.36666667],\n",
       "       [0.38333333],\n",
       "       [0.38333333],\n",
       "       [0.38333333],\n",
       "       [0.40000001],\n",
       "       [0.40000001],\n",
       "       [0.40000001],\n",
       "       [0.40000001],\n",
       "       [0.40000001],\n",
       "       [0.41666666],\n",
       "       [0.41666666],\n",
       "       [0.43333334],\n",
       "       [0.46666667],\n",
       "       [0.5       ],\n",
       "       [0.53333336],\n",
       "       [0.56666666],\n",
       "       [0.58333331],\n",
       "       [0.64999998],\n",
       "       [0.69999999],\n",
       "       [0.75      ],\n",
       "       [0.75      ],\n",
       "       [0.75      ],\n",
       "       [0.75      ],\n",
       "       [0.75      ],\n",
       "       [0.75      ],\n",
       "       [0.75      ],\n",
       "       [0.75      ],\n",
       "       [0.76666665],\n",
       "       [0.78333336],\n",
       "       [0.78333336],\n",
       "       [0.78333336],\n",
       "       [0.80000001],\n",
       "       [0.81666666],\n",
       "       [0.81666666],\n",
       "       [0.81666666],\n",
       "       [0.81666666],\n",
       "       [0.81666666],\n",
       "       [0.83333331],\n",
       "       [0.85000002],\n",
       "       [0.85000002],\n",
       "       [0.85000002],\n",
       "       [0.86666667],\n",
       "       [0.86666667],\n",
       "       [0.86666667],\n",
       "       [0.86666667]])"
      ]
     },
     "execution_count": 198,
     "metadata": {},
     "output_type": "execute_result"
    }
   ],
   "source": [
    "s_pred"
   ]
  }
 ],
 "metadata": {
  "kernelspec": {
   "display_name": "conda_mxnet_p36",
   "language": "python",
   "name": "conda_mxnet_p36"
  },
  "language_info": {
   "codemirror_mode": {
    "name": "ipython",
    "version": 3
   },
   "file_extension": ".py",
   "mimetype": "text/x-python",
   "name": "python",
   "nbconvert_exporter": "python",
   "pygments_lexer": "ipython3",
   "version": "3.6.13"
  }
 },
 "nbformat": 4,
 "nbformat_minor": 5
}
