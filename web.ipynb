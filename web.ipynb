{
 "cells": [
  {
   "cell_type": "code",
   "execution_count": 1,
   "id": "30e163c5",
   "metadata": {},
   "outputs": [],
   "source": [
    "endpoint = 'pytorch-inference-2022-02-22-19-49-37-825'"
   ]
  },
  {
   "cell_type": "code",
   "execution_count": 2,
   "id": "a97fcb6e",
   "metadata": {},
   "outputs": [
    {
     "data": {
      "text/plain": [
       "<botocore.client.SageMakerRuntime at 0x7f6f96a27470>"
      ]
     },
     "execution_count": 2,
     "metadata": {},
     "output_type": "execute_result"
    }
   ],
   "source": [
    "import boto3\n",
    "\n",
    "runtime = boto3.Session().client('sagemaker-runtime')\n",
    "runtime"
   ]
  },
  {
   "cell_type": "code",
   "execution_count": 19,
   "id": "a0ca0ae8",
   "metadata": {},
   "outputs": [
    {
     "data": {
      "text/plain": [
       "[[41, 0, 1, 0, 0, 0]]"
      ]
     },
     "execution_count": 19,
     "metadata": {},
     "output_type": "execute_result"
    }
   ],
   "source": [
    "test_data = [[41, 0, 1, 0, 0, 0]]\n",
    "test_data"
   ]
  },
  {
   "cell_type": "code",
   "execution_count": 6,
   "id": "a3c9fb49",
   "metadata": {},
   "outputs": [
    {
     "data": {
      "text/plain": [
       "b'41,0,1,0,0,0'"
      ]
     },
     "execution_count": 6,
     "metadata": {},
     "output_type": "execute_result"
    }
   ],
   "source": [
    "test_data_txt = ','.join([str(val) for val in test_data]).encode('utf-8')\n",
    "test_data_txt"
   ]
  },
  {
   "cell_type": "code",
   "execution_count": 15,
   "id": "0fcd5295",
   "metadata": {},
   "outputs": [],
   "source": [
    "import pandas as pd"
   ]
  },
  {
   "cell_type": "code",
   "execution_count": 20,
   "id": "ad1a7b72",
   "metadata": {},
   "outputs": [
    {
     "data": {
      "text/html": [
       "<div>\n",
       "<style scoped>\n",
       "    .dataframe tbody tr th:only-of-type {\n",
       "        vertical-align: middle;\n",
       "    }\n",
       "\n",
       "    .dataframe tbody tr th {\n",
       "        vertical-align: top;\n",
       "    }\n",
       "\n",
       "    .dataframe thead th {\n",
       "        text-align: right;\n",
       "    }\n",
       "</style>\n",
       "<table border=\"1\" class=\"dataframe\">\n",
       "  <thead>\n",
       "    <tr style=\"text-align: right;\">\n",
       "      <th></th>\n",
       "      <th>0</th>\n",
       "      <th>1</th>\n",
       "      <th>2</th>\n",
       "      <th>3</th>\n",
       "      <th>4</th>\n",
       "      <th>5</th>\n",
       "    </tr>\n",
       "  </thead>\n",
       "  <tbody>\n",
       "    <tr>\n",
       "      <th>0</th>\n",
       "      <td>41</td>\n",
       "      <td>0</td>\n",
       "      <td>1</td>\n",
       "      <td>0</td>\n",
       "      <td>0</td>\n",
       "      <td>0</td>\n",
       "    </tr>\n",
       "  </tbody>\n",
       "</table>\n",
       "</div>"
      ],
      "text/plain": [
       "    0  1  2  3  4  5\n",
       "0  41  0  1  0  0  0"
      ]
     },
     "execution_count": 20,
     "metadata": {},
     "output_type": "execute_result"
    }
   ],
   "source": [
    "test_df = pd.DataFrame(test_data, index=[0])\n",
    "test_df"
   ]
  },
  {
   "cell_type": "code",
   "execution_count": 29,
   "id": "b5f4cb49",
   "metadata": {},
   "outputs": [
    {
     "data": {
      "text/plain": [
       "array([[41,  0,  1,  0,  0,  0]])"
      ]
     },
     "execution_count": 29,
     "metadata": {},
     "output_type": "execute_result"
    }
   ],
   "source": [
    "tnp = test_df.values\n",
    "tnp"
   ]
  },
  {
   "cell_type": "code",
   "execution_count": 31,
   "id": "244f3ad3",
   "metadata": {},
   "outputs": [
    {
     "data": {
      "text/plain": [
       "array([41,  0,  1,  0,  0,  0])"
      ]
     },
     "execution_count": 31,
     "metadata": {},
     "output_type": "execute_result"
    }
   ],
   "source": [
    "tnp[0]"
   ]
  },
  {
   "cell_type": "code",
   "execution_count": 32,
   "id": "84e4dbb9",
   "metadata": {},
   "outputs": [
    {
     "data": {
      "text/plain": [
       "'41,0,1,0,0,0'"
      ]
     },
     "execution_count": 32,
     "metadata": {},
     "output_type": "execute_result"
    }
   ],
   "source": [
    "','.join([str(val) for val in tnp[0]])"
   ]
  },
  {
   "cell_type": "code",
   "execution_count": 33,
   "id": "c2f7f262",
   "metadata": {},
   "outputs": [
    {
     "data": {
      "text/plain": [
       "'41,0,1,0,0,0'"
      ]
     },
     "execution_count": 33,
     "metadata": {},
     "output_type": "execute_result"
    }
   ],
   "source": [
    "rows = []\n",
    "for row in tnp:\n",
    "    rows.append(','.join([str(val) for val in row]))\n",
    "'\\n'.join(rows)"
   ]
  },
  {
   "cell_type": "code",
   "execution_count": 26,
   "id": "ae8594d9",
   "metadata": {},
   "outputs": [
    {
     "data": {
      "text/plain": [
       "b')\\x00\\x00\\x00\\x00\\x00\\x00\\x00\\x00\\x00\\x00\\x00\\x00\\x00\\x00\\x00\\x01\\x00\\x00\\x00\\x00\\x00\\x00\\x00\\x00\\x00\\x00\\x00\\x00\\x00\\x00\\x00\\x00\\x00\\x00\\x00\\x00\\x00\\x00\\x00\\x00\\x00\\x00\\x00\\x00\\x00\\x00\\x00'"
      ]
     },
     "execution_count": 26,
     "metadata": {},
     "output_type": "execute_result"
    }
   ],
   "source": [
    "test_df.values.tobytes()"
   ]
  },
  {
   "cell_type": "code",
   "execution_count": 37,
   "id": "e24462f5",
   "metadata": {},
   "outputs": [
    {
     "data": {
      "text/plain": [
       "{'ResponseMetadata': {'RequestId': 'c4fbeaf6-7a14-453f-8c37-3199665fe0a0',\n",
       "  'HTTPStatusCode': 200,\n",
       "  'HTTPHeaders': {'x-amzn-requestid': 'c4fbeaf6-7a14-453f-8c37-3199665fe0a0',\n",
       "   'x-amzn-invoked-production-variant': 'AllTraffic',\n",
       "   'date': 'Wed, 23 Feb 2022 05:52:55 GMT',\n",
       "   'content-type': 'text/csv',\n",
       "   'content-length': '25'},\n",
       "  'RetryAttempts': 0},\n",
       " 'ContentType': 'text/csv',\n",
       " 'InvokedProductionVariant': 'AllTraffic',\n",
       " 'Body': <botocore.response.StreamingBody at 0x7f6f8d6ac2b0>}"
      ]
     },
     "execution_count": 37,
     "metadata": {},
     "output_type": "execute_result"
    }
   ],
   "source": [
    "response = runtime.invoke_endpoint(EndpointName = 'pytorch-inference-2022-02-23-05-44-04-881',\n",
    "                                   ContentType = 'text/csv',\n",
    "                                   Accept='text/csv',\n",
    "                                       Body = test_data_txt)\n",
    "response"
   ]
  },
  {
   "cell_type": "code",
   "execution_count": 38,
   "id": "6f1cdd0e",
   "metadata": {},
   "outputs": [
    {
     "data": {
      "text/plain": [
       "'151.956,153.24803,0.0,0.0'"
      ]
     },
     "execution_count": 38,
     "metadata": {},
     "output_type": "execute_result"
    }
   ],
   "source": [
    "result = response['Body'].read().decode('utf-8')\n",
    "result"
   ]
  }
 ],
 "metadata": {
  "kernelspec": {
   "display_name": "conda_mxnet_p36",
   "language": "python",
   "name": "conda_mxnet_p36"
  },
  "language_info": {
   "codemirror_mode": {
    "name": "ipython",
    "version": 3
   },
   "file_extension": ".py",
   "mimetype": "text/x-python",
   "name": "python",
   "nbconvert_exporter": "python",
   "pygments_lexer": "ipython3",
   "version": "3.6.13"
  }
 },
 "nbformat": 4,
 "nbformat_minor": 5
}
